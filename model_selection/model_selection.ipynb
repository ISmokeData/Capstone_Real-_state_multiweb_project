{
  "nbformat": 4,
  "nbformat_minor": 0,
  "metadata": {
    "colab": {
      "provenance": []
    },
    "kernelspec": {
      "name": "python3",
      "display_name": "Python 3"
    },
    "language_info": {
      "name": "python"
    }
  },
  "cells": [
    {
      "cell_type": "code",
      "execution_count": 1,
      "metadata": {
        "id": "X-JNwrMTDkeZ"
      },
      "outputs": [],
      "source": [
        "import pandas as pd\n",
        "import numpy as np"
      ]
    },
    {
      "cell_type": "code",
      "source": [
        "from sklearn.model_selection import KFold,cross_val_score\n",
        "from sklearn.linear_model import LinearRegression\n",
        "from sklearn.pipeline import Pipeline\n",
        "from sklearn.preprocessing import StandardScaler, OrdinalEncoder,OneHotEncoder,LabelEncoder\n",
        "from sklearn.compose import ColumnTransformer\n",
        "from sklearn.svm import SVR\n",
        "from sklearn.ensemble import RandomForestRegressor\n",
        "from sklearn.model_selection import train_test_split\n",
        "from sklearn.metrics import mean_squared_error\n",
        "from sklearn.decomposition import PCA\n",
        "from sklearn.neighbors import KNeighborsRegressor\n",
        "from sklearn.tree import DecisionTreeRegressor\n",
        "from sklearn.linear_model import Ridge\n",
        "from sklearn.linear_model import Lasso\n",
        "import xgboost as xg\n",
        "from sklearn.ensemble import AdaBoostRegressor\n",
        "from sklearn.ensemble import GradientBoostingRegressor\n",
        "from sklearn.neural_network import MLPRegressor\n",
        "import warnings\n",
        "warnings.filterwarnings('ignore')"
      ],
      "metadata": {
        "id": "ecCMiBjEDtwv"
      },
      "execution_count": 22,
      "outputs": []
    },
    {
      "cell_type": "code",
      "source": [
        "df = pd.read_csv('outlier_removed.csv')"
      ],
      "metadata": {
        "id": "aDOvVO3qFYzj"
      },
      "execution_count": 3,
      "outputs": []
    },
    {
      "cell_type": "code",
      "source": [
        "test_df = df.copy()"
      ],
      "metadata": {
        "id": "QZLsJshtFfw_"
      },
      "execution_count": 4,
      "outputs": []
    },
    {
      "cell_type": "code",
      "source": [
        "test_df.drop(columns=['price_persqft','index'],inplace=True)"
      ],
      "metadata": {
        "id": "2yvQECrbFj17"
      },
      "execution_count": 5,
      "outputs": []
    },
    {
      "cell_type": "code",
      "source": [
        "test_df"
      ],
      "metadata": {
        "colab": {
          "base_uri": "https://localhost:8080/",
          "height": 423
        },
        "id": "0g5NtazZF6E1",
        "outputId": "c58ee392-17bd-44a9-90d7-73dd33751952"
      },
      "execution_count": 6,
      "outputs": [
        {
          "output_type": "execute_result",
          "data": {
            "text/plain": [
              "     BHK       sector  price  SuperArea floor      Furnishing        facing  \\\n",
              "0      3     Panathur   2.25     1611.0   10+     Unfurnished          East   \n",
              "1      3     Panathur   2.13     1650.0   10+     Unfurnished          East   \n",
              "2      3  Thanisandra   1.37     1420.0     8     Unfurnished  North - East   \n",
              "3      3     Panathur   1.62     1473.0     5     Unfurnished  North - East   \n",
              "4      4   Whitefield   3.93     2616.0   10+     Unfurnished          East   \n",
              "...   ..          ...    ...        ...   ...             ...           ...   \n",
              "7435   1      Andheri   0.85      429.0     1  Semi-Furnished          East   \n",
              "7436   1      Andheri   1.29      435.0   10+     Unfurnished          East   \n",
              "7437   2       others   2.75     1095.0   10+     Unfurnished          East   \n",
              "7438   4      Andheri   4.15     1300.0     8  Semi-Furnished          East   \n",
              "7439   1     Borivali   0.66      400.0     3     Unfurnished          East   \n",
              "\n",
              "     Car_Parking Bathroom Balcony             overlooking       city  \n",
              "0      available        2       1             Garden/Park  Bangalore  \n",
              "1      available        3       2             Garden/Park  Bangalore  \n",
              "2      available        2       1       Garden/Park, Pool  Bangalore  \n",
              "3      available        2       1  Garden/Park, Main Road  Bangalore  \n",
              "4      available        3       2             Garden/Park  Bangalore  \n",
              "...          ...      ...     ...                     ...        ...  \n",
              "7435    not sure        1       1               Main Road     Mumbai  \n",
              "7436   available        2       1               Main Road     Mumbai  \n",
              "7437    not sure        2       1               Main Road     Mumbai  \n",
              "7438    not sure        2       1  Garden/Park, Main Road     Mumbai  \n",
              "7439    not sure        1       1               Main Road     Mumbai  \n",
              "\n",
              "[7440 rows x 12 columns]"
            ],
            "text/html": [
              "\n",
              "  <div id=\"df-111b3cc4-57b4-4ccc-975a-665f765a20f5\" class=\"colab-df-container\">\n",
              "    <div>\n",
              "<style scoped>\n",
              "    .dataframe tbody tr th:only-of-type {\n",
              "        vertical-align: middle;\n",
              "    }\n",
              "\n",
              "    .dataframe tbody tr th {\n",
              "        vertical-align: top;\n",
              "    }\n",
              "\n",
              "    .dataframe thead th {\n",
              "        text-align: right;\n",
              "    }\n",
              "</style>\n",
              "<table border=\"1\" class=\"dataframe\">\n",
              "  <thead>\n",
              "    <tr style=\"text-align: right;\">\n",
              "      <th></th>\n",
              "      <th>BHK</th>\n",
              "      <th>sector</th>\n",
              "      <th>price</th>\n",
              "      <th>SuperArea</th>\n",
              "      <th>floor</th>\n",
              "      <th>Furnishing</th>\n",
              "      <th>facing</th>\n",
              "      <th>Car_Parking</th>\n",
              "      <th>Bathroom</th>\n",
              "      <th>Balcony</th>\n",
              "      <th>overlooking</th>\n",
              "      <th>city</th>\n",
              "    </tr>\n",
              "  </thead>\n",
              "  <tbody>\n",
              "    <tr>\n",
              "      <th>0</th>\n",
              "      <td>3</td>\n",
              "      <td>Panathur</td>\n",
              "      <td>2.25</td>\n",
              "      <td>1611.0</td>\n",
              "      <td>10+</td>\n",
              "      <td>Unfurnished</td>\n",
              "      <td>East</td>\n",
              "      <td>available</td>\n",
              "      <td>2</td>\n",
              "      <td>1</td>\n",
              "      <td>Garden/Park</td>\n",
              "      <td>Bangalore</td>\n",
              "    </tr>\n",
              "    <tr>\n",
              "      <th>1</th>\n",
              "      <td>3</td>\n",
              "      <td>Panathur</td>\n",
              "      <td>2.13</td>\n",
              "      <td>1650.0</td>\n",
              "      <td>10+</td>\n",
              "      <td>Unfurnished</td>\n",
              "      <td>East</td>\n",
              "      <td>available</td>\n",
              "      <td>3</td>\n",
              "      <td>2</td>\n",
              "      <td>Garden/Park</td>\n",
              "      <td>Bangalore</td>\n",
              "    </tr>\n",
              "    <tr>\n",
              "      <th>2</th>\n",
              "      <td>3</td>\n",
              "      <td>Thanisandra</td>\n",
              "      <td>1.37</td>\n",
              "      <td>1420.0</td>\n",
              "      <td>8</td>\n",
              "      <td>Unfurnished</td>\n",
              "      <td>North - East</td>\n",
              "      <td>available</td>\n",
              "      <td>2</td>\n",
              "      <td>1</td>\n",
              "      <td>Garden/Park, Pool</td>\n",
              "      <td>Bangalore</td>\n",
              "    </tr>\n",
              "    <tr>\n",
              "      <th>3</th>\n",
              "      <td>3</td>\n",
              "      <td>Panathur</td>\n",
              "      <td>1.62</td>\n",
              "      <td>1473.0</td>\n",
              "      <td>5</td>\n",
              "      <td>Unfurnished</td>\n",
              "      <td>North - East</td>\n",
              "      <td>available</td>\n",
              "      <td>2</td>\n",
              "      <td>1</td>\n",
              "      <td>Garden/Park, Main Road</td>\n",
              "      <td>Bangalore</td>\n",
              "    </tr>\n",
              "    <tr>\n",
              "      <th>4</th>\n",
              "      <td>4</td>\n",
              "      <td>Whitefield</td>\n",
              "      <td>3.93</td>\n",
              "      <td>2616.0</td>\n",
              "      <td>10+</td>\n",
              "      <td>Unfurnished</td>\n",
              "      <td>East</td>\n",
              "      <td>available</td>\n",
              "      <td>3</td>\n",
              "      <td>2</td>\n",
              "      <td>Garden/Park</td>\n",
              "      <td>Bangalore</td>\n",
              "    </tr>\n",
              "    <tr>\n",
              "      <th>...</th>\n",
              "      <td>...</td>\n",
              "      <td>...</td>\n",
              "      <td>...</td>\n",
              "      <td>...</td>\n",
              "      <td>...</td>\n",
              "      <td>...</td>\n",
              "      <td>...</td>\n",
              "      <td>...</td>\n",
              "      <td>...</td>\n",
              "      <td>...</td>\n",
              "      <td>...</td>\n",
              "      <td>...</td>\n",
              "    </tr>\n",
              "    <tr>\n",
              "      <th>7435</th>\n",
              "      <td>1</td>\n",
              "      <td>Andheri</td>\n",
              "      <td>0.85</td>\n",
              "      <td>429.0</td>\n",
              "      <td>1</td>\n",
              "      <td>Semi-Furnished</td>\n",
              "      <td>East</td>\n",
              "      <td>not sure</td>\n",
              "      <td>1</td>\n",
              "      <td>1</td>\n",
              "      <td>Main Road</td>\n",
              "      <td>Mumbai</td>\n",
              "    </tr>\n",
              "    <tr>\n",
              "      <th>7436</th>\n",
              "      <td>1</td>\n",
              "      <td>Andheri</td>\n",
              "      <td>1.29</td>\n",
              "      <td>435.0</td>\n",
              "      <td>10+</td>\n",
              "      <td>Unfurnished</td>\n",
              "      <td>East</td>\n",
              "      <td>available</td>\n",
              "      <td>2</td>\n",
              "      <td>1</td>\n",
              "      <td>Main Road</td>\n",
              "      <td>Mumbai</td>\n",
              "    </tr>\n",
              "    <tr>\n",
              "      <th>7437</th>\n",
              "      <td>2</td>\n",
              "      <td>others</td>\n",
              "      <td>2.75</td>\n",
              "      <td>1095.0</td>\n",
              "      <td>10+</td>\n",
              "      <td>Unfurnished</td>\n",
              "      <td>East</td>\n",
              "      <td>not sure</td>\n",
              "      <td>2</td>\n",
              "      <td>1</td>\n",
              "      <td>Main Road</td>\n",
              "      <td>Mumbai</td>\n",
              "    </tr>\n",
              "    <tr>\n",
              "      <th>7438</th>\n",
              "      <td>4</td>\n",
              "      <td>Andheri</td>\n",
              "      <td>4.15</td>\n",
              "      <td>1300.0</td>\n",
              "      <td>8</td>\n",
              "      <td>Semi-Furnished</td>\n",
              "      <td>East</td>\n",
              "      <td>not sure</td>\n",
              "      <td>2</td>\n",
              "      <td>1</td>\n",
              "      <td>Garden/Park, Main Road</td>\n",
              "      <td>Mumbai</td>\n",
              "    </tr>\n",
              "    <tr>\n",
              "      <th>7439</th>\n",
              "      <td>1</td>\n",
              "      <td>Borivali</td>\n",
              "      <td>0.66</td>\n",
              "      <td>400.0</td>\n",
              "      <td>3</td>\n",
              "      <td>Unfurnished</td>\n",
              "      <td>East</td>\n",
              "      <td>not sure</td>\n",
              "      <td>1</td>\n",
              "      <td>1</td>\n",
              "      <td>Main Road</td>\n",
              "      <td>Mumbai</td>\n",
              "    </tr>\n",
              "  </tbody>\n",
              "</table>\n",
              "<p>7440 rows × 12 columns</p>\n",
              "</div>\n",
              "    <div class=\"colab-df-buttons\">\n",
              "\n",
              "  <div class=\"colab-df-container\">\n",
              "    <button class=\"colab-df-convert\" onclick=\"convertToInteractive('df-111b3cc4-57b4-4ccc-975a-665f765a20f5')\"\n",
              "            title=\"Convert this dataframe to an interactive table.\"\n",
              "            style=\"display:none;\">\n",
              "\n",
              "  <svg xmlns=\"http://www.w3.org/2000/svg\" height=\"24px\" viewBox=\"0 -960 960 960\">\n",
              "    <path d=\"M120-120v-720h720v720H120Zm60-500h600v-160H180v160Zm220 220h160v-160H400v160Zm0 220h160v-160H400v160ZM180-400h160v-160H180v160Zm440 0h160v-160H620v160ZM180-180h160v-160H180v160Zm440 0h160v-160H620v160Z\"/>\n",
              "  </svg>\n",
              "    </button>\n",
              "\n",
              "  <style>\n",
              "    .colab-df-container {\n",
              "      display:flex;\n",
              "      gap: 12px;\n",
              "    }\n",
              "\n",
              "    .colab-df-convert {\n",
              "      background-color: #E8F0FE;\n",
              "      border: none;\n",
              "      border-radius: 50%;\n",
              "      cursor: pointer;\n",
              "      display: none;\n",
              "      fill: #1967D2;\n",
              "      height: 32px;\n",
              "      padding: 0 0 0 0;\n",
              "      width: 32px;\n",
              "    }\n",
              "\n",
              "    .colab-df-convert:hover {\n",
              "      background-color: #E2EBFA;\n",
              "      box-shadow: 0px 1px 2px rgba(60, 64, 67, 0.3), 0px 1px 3px 1px rgba(60, 64, 67, 0.15);\n",
              "      fill: #174EA6;\n",
              "    }\n",
              "\n",
              "    .colab-df-buttons div {\n",
              "      margin-bottom: 4px;\n",
              "    }\n",
              "\n",
              "    [theme=dark] .colab-df-convert {\n",
              "      background-color: #3B4455;\n",
              "      fill: #D2E3FC;\n",
              "    }\n",
              "\n",
              "    [theme=dark] .colab-df-convert:hover {\n",
              "      background-color: #434B5C;\n",
              "      box-shadow: 0px 1px 3px 1px rgba(0, 0, 0, 0.15);\n",
              "      filter: drop-shadow(0px 1px 2px rgba(0, 0, 0, 0.3));\n",
              "      fill: #FFFFFF;\n",
              "    }\n",
              "  </style>\n",
              "\n",
              "    <script>\n",
              "      const buttonEl =\n",
              "        document.querySelector('#df-111b3cc4-57b4-4ccc-975a-665f765a20f5 button.colab-df-convert');\n",
              "      buttonEl.style.display =\n",
              "        google.colab.kernel.accessAllowed ? 'block' : 'none';\n",
              "\n",
              "      async function convertToInteractive(key) {\n",
              "        const element = document.querySelector('#df-111b3cc4-57b4-4ccc-975a-665f765a20f5');\n",
              "        const dataTable =\n",
              "          await google.colab.kernel.invokeFunction('convertToInteractive',\n",
              "                                                    [key], {});\n",
              "        if (!dataTable) return;\n",
              "\n",
              "        const docLinkHtml = 'Like what you see? Visit the ' +\n",
              "          '<a target=\"_blank\" href=https://colab.research.google.com/notebooks/data_table.ipynb>data table notebook</a>'\n",
              "          + ' to learn more about interactive tables.';\n",
              "        element.innerHTML = '';\n",
              "        dataTable['output_type'] = 'display_data';\n",
              "        await google.colab.output.renderOutput(dataTable, element);\n",
              "        const docLink = document.createElement('div');\n",
              "        docLink.innerHTML = docLinkHtml;\n",
              "        element.appendChild(docLink);\n",
              "      }\n",
              "    </script>\n",
              "  </div>\n",
              "\n",
              "\n",
              "<div id=\"df-e34116b9-1127-4b35-8e77-7507fb8427d1\">\n",
              "  <button class=\"colab-df-quickchart\" onclick=\"quickchart('df-e34116b9-1127-4b35-8e77-7507fb8427d1')\"\n",
              "            title=\"Suggest charts\"\n",
              "            style=\"display:none;\">\n",
              "\n",
              "<svg xmlns=\"http://www.w3.org/2000/svg\" height=\"24px\"viewBox=\"0 0 24 24\"\n",
              "     width=\"24px\">\n",
              "    <g>\n",
              "        <path d=\"M19 3H5c-1.1 0-2 .9-2 2v14c0 1.1.9 2 2 2h14c1.1 0 2-.9 2-2V5c0-1.1-.9-2-2-2zM9 17H7v-7h2v7zm4 0h-2V7h2v10zm4 0h-2v-4h2v4z\"/>\n",
              "    </g>\n",
              "</svg>\n",
              "  </button>\n",
              "\n",
              "<style>\n",
              "  .colab-df-quickchart {\n",
              "      --bg-color: #E8F0FE;\n",
              "      --fill-color: #1967D2;\n",
              "      --hover-bg-color: #E2EBFA;\n",
              "      --hover-fill-color: #174EA6;\n",
              "      --disabled-fill-color: #AAA;\n",
              "      --disabled-bg-color: #DDD;\n",
              "  }\n",
              "\n",
              "  [theme=dark] .colab-df-quickchart {\n",
              "      --bg-color: #3B4455;\n",
              "      --fill-color: #D2E3FC;\n",
              "      --hover-bg-color: #434B5C;\n",
              "      --hover-fill-color: #FFFFFF;\n",
              "      --disabled-bg-color: #3B4455;\n",
              "      --disabled-fill-color: #666;\n",
              "  }\n",
              "\n",
              "  .colab-df-quickchart {\n",
              "    background-color: var(--bg-color);\n",
              "    border: none;\n",
              "    border-radius: 50%;\n",
              "    cursor: pointer;\n",
              "    display: none;\n",
              "    fill: var(--fill-color);\n",
              "    height: 32px;\n",
              "    padding: 0;\n",
              "    width: 32px;\n",
              "  }\n",
              "\n",
              "  .colab-df-quickchart:hover {\n",
              "    background-color: var(--hover-bg-color);\n",
              "    box-shadow: 0 1px 2px rgba(60, 64, 67, 0.3), 0 1px 3px 1px rgba(60, 64, 67, 0.15);\n",
              "    fill: var(--button-hover-fill-color);\n",
              "  }\n",
              "\n",
              "  .colab-df-quickchart-complete:disabled,\n",
              "  .colab-df-quickchart-complete:disabled:hover {\n",
              "    background-color: var(--disabled-bg-color);\n",
              "    fill: var(--disabled-fill-color);\n",
              "    box-shadow: none;\n",
              "  }\n",
              "\n",
              "  .colab-df-spinner {\n",
              "    border: 2px solid var(--fill-color);\n",
              "    border-color: transparent;\n",
              "    border-bottom-color: var(--fill-color);\n",
              "    animation:\n",
              "      spin 1s steps(1) infinite;\n",
              "  }\n",
              "\n",
              "  @keyframes spin {\n",
              "    0% {\n",
              "      border-color: transparent;\n",
              "      border-bottom-color: var(--fill-color);\n",
              "      border-left-color: var(--fill-color);\n",
              "    }\n",
              "    20% {\n",
              "      border-color: transparent;\n",
              "      border-left-color: var(--fill-color);\n",
              "      border-top-color: var(--fill-color);\n",
              "    }\n",
              "    30% {\n",
              "      border-color: transparent;\n",
              "      border-left-color: var(--fill-color);\n",
              "      border-top-color: var(--fill-color);\n",
              "      border-right-color: var(--fill-color);\n",
              "    }\n",
              "    40% {\n",
              "      border-color: transparent;\n",
              "      border-right-color: var(--fill-color);\n",
              "      border-top-color: var(--fill-color);\n",
              "    }\n",
              "    60% {\n",
              "      border-color: transparent;\n",
              "      border-right-color: var(--fill-color);\n",
              "    }\n",
              "    80% {\n",
              "      border-color: transparent;\n",
              "      border-right-color: var(--fill-color);\n",
              "      border-bottom-color: var(--fill-color);\n",
              "    }\n",
              "    90% {\n",
              "      border-color: transparent;\n",
              "      border-bottom-color: var(--fill-color);\n",
              "    }\n",
              "  }\n",
              "</style>\n",
              "\n",
              "  <script>\n",
              "    async function quickchart(key) {\n",
              "      const quickchartButtonEl =\n",
              "        document.querySelector('#' + key + ' button');\n",
              "      quickchartButtonEl.disabled = true;  // To prevent multiple clicks.\n",
              "      quickchartButtonEl.classList.add('colab-df-spinner');\n",
              "      try {\n",
              "        const charts = await google.colab.kernel.invokeFunction(\n",
              "            'suggestCharts', [key], {});\n",
              "      } catch (error) {\n",
              "        console.error('Error during call to suggestCharts:', error);\n",
              "      }\n",
              "      quickchartButtonEl.classList.remove('colab-df-spinner');\n",
              "      quickchartButtonEl.classList.add('colab-df-quickchart-complete');\n",
              "    }\n",
              "    (() => {\n",
              "      let quickchartButtonEl =\n",
              "        document.querySelector('#df-e34116b9-1127-4b35-8e77-7507fb8427d1 button');\n",
              "      quickchartButtonEl.style.display =\n",
              "        google.colab.kernel.accessAllowed ? 'block' : 'none';\n",
              "    })();\n",
              "  </script>\n",
              "</div>\n",
              "\n",
              "  <div id=\"id_b1d16bd2-76e1-476e-8498-e5e0d7950d70\">\n",
              "    <style>\n",
              "      .colab-df-generate {\n",
              "        background-color: #E8F0FE;\n",
              "        border: none;\n",
              "        border-radius: 50%;\n",
              "        cursor: pointer;\n",
              "        display: none;\n",
              "        fill: #1967D2;\n",
              "        height: 32px;\n",
              "        padding: 0 0 0 0;\n",
              "        width: 32px;\n",
              "      }\n",
              "\n",
              "      .colab-df-generate:hover {\n",
              "        background-color: #E2EBFA;\n",
              "        box-shadow: 0px 1px 2px rgba(60, 64, 67, 0.3), 0px 1px 3px 1px rgba(60, 64, 67, 0.15);\n",
              "        fill: #174EA6;\n",
              "      }\n",
              "\n",
              "      [theme=dark] .colab-df-generate {\n",
              "        background-color: #3B4455;\n",
              "        fill: #D2E3FC;\n",
              "      }\n",
              "\n",
              "      [theme=dark] .colab-df-generate:hover {\n",
              "        background-color: #434B5C;\n",
              "        box-shadow: 0px 1px 3px 1px rgba(0, 0, 0, 0.15);\n",
              "        filter: drop-shadow(0px 1px 2px rgba(0, 0, 0, 0.3));\n",
              "        fill: #FFFFFF;\n",
              "      }\n",
              "    </style>\n",
              "    <button class=\"colab-df-generate\" onclick=\"generateWithVariable('test_df')\"\n",
              "            title=\"Generate code using this dataframe.\"\n",
              "            style=\"display:none;\">\n",
              "\n",
              "  <svg xmlns=\"http://www.w3.org/2000/svg\" height=\"24px\"viewBox=\"0 0 24 24\"\n",
              "       width=\"24px\">\n",
              "    <path d=\"M7,19H8.4L18.45,9,17,7.55,7,17.6ZM5,21V16.75L18.45,3.32a2,2,0,0,1,2.83,0l1.4,1.43a1.91,1.91,0,0,1,.58,1.4,1.91,1.91,0,0,1-.58,1.4L9.25,21ZM18.45,9,17,7.55Zm-12,3A5.31,5.31,0,0,0,4.9,8.1,5.31,5.31,0,0,0,1,6.5,5.31,5.31,0,0,0,4.9,4.9,5.31,5.31,0,0,0,6.5,1,5.31,5.31,0,0,0,8.1,4.9,5.31,5.31,0,0,0,12,6.5,5.46,5.46,0,0,0,6.5,12Z\"/>\n",
              "  </svg>\n",
              "    </button>\n",
              "    <script>\n",
              "      (() => {\n",
              "      const buttonEl =\n",
              "        document.querySelector('#id_b1d16bd2-76e1-476e-8498-e5e0d7950d70 button.colab-df-generate');\n",
              "      buttonEl.style.display =\n",
              "        google.colab.kernel.accessAllowed ? 'block' : 'none';\n",
              "\n",
              "      buttonEl.onclick = () => {\n",
              "        google.colab.notebook.generateWithVariable('test_df');\n",
              "      }\n",
              "      })();\n",
              "    </script>\n",
              "  </div>\n",
              "\n",
              "    </div>\n",
              "  </div>\n"
            ],
            "application/vnd.google.colaboratory.intrinsic+json": {
              "type": "dataframe",
              "variable_name": "test_df",
              "summary": "{\n  \"name\": \"test_df\",\n  \"rows\": 7440,\n  \"fields\": [\n    {\n      \"column\": \"BHK\",\n      \"properties\": {\n        \"dtype\": \"category\",\n        \"num_unique_values\": 5,\n        \"samples\": [\n          \"4\",\n          \"1\",\n          \"2\"\n        ],\n        \"semantic_type\": \"\",\n        \"description\": \"\"\n      }\n    },\n    {\n      \"column\": \"sector\",\n      \"properties\": {\n        \"dtype\": \"category\",\n        \"num_unique_values\": 106,\n        \"samples\": [\n          \"Santacruz\",\n          \"Yelahanka\",\n          \"Sarjapur Road\"\n        ],\n        \"semantic_type\": \"\",\n        \"description\": \"\"\n      }\n    },\n    {\n      \"column\": \"price\",\n      \"properties\": {\n        \"dtype\": \"number\",\n        \"std\": 2.478336665241566,\n        \"min\": 0.06,\n        \"max\": 30.0,\n        \"num_unique_values\": 949,\n        \"samples\": [\n          7.1,\n          5.77,\n          0.923\n        ],\n        \"semantic_type\": \"\",\n        \"description\": \"\"\n      }\n    },\n    {\n      \"column\": \"SuperArea\",\n      \"properties\": {\n        \"dtype\": \"number\",\n        \"std\": 948.9978412860214,\n        \"min\": 30.0,\n        \"max\": 10000.0,\n        \"num_unique_values\": 1894,\n        \"samples\": [\n          1017.0,\n          1620.0,\n          1541.0\n        ],\n        \"semantic_type\": \"\",\n        \"description\": \"\"\n      }\n    },\n    {\n      \"column\": \"floor\",\n      \"properties\": {\n        \"dtype\": \"category\",\n        \"num_unique_values\": 12,\n        \"samples\": [\n          \"6\",\n          \"1\",\n          \"10+\"\n        ],\n        \"semantic_type\": \"\",\n        \"description\": \"\"\n      }\n    },\n    {\n      \"column\": \"Furnishing\",\n      \"properties\": {\n        \"dtype\": \"category\",\n        \"num_unique_values\": 3,\n        \"samples\": [\n          \"Unfurnished\",\n          \"Semi-Furnished\",\n          \"Furnished\"\n        ],\n        \"semantic_type\": \"\",\n        \"description\": \"\"\n      }\n    },\n    {\n      \"column\": \"facing\",\n      \"properties\": {\n        \"dtype\": \"category\",\n        \"num_unique_values\": 8,\n        \"samples\": [\n          \"North - East\",\n          \"South\",\n          \"East\"\n        ],\n        \"semantic_type\": \"\",\n        \"description\": \"\"\n      }\n    },\n    {\n      \"column\": \"Car_Parking\",\n      \"properties\": {\n        \"dtype\": \"category\",\n        \"num_unique_values\": 2,\n        \"samples\": [\n          \"not sure\",\n          \"available\"\n        ],\n        \"semantic_type\": \"\",\n        \"description\": \"\"\n      }\n    },\n    {\n      \"column\": \"Bathroom\",\n      \"properties\": {\n        \"dtype\": \"category\",\n        \"num_unique_values\": 5,\n        \"samples\": [\n          \"3\",\n          \"1\"\n        ],\n        \"semantic_type\": \"\",\n        \"description\": \"\"\n      }\n    },\n    {\n      \"column\": \"Balcony\",\n      \"properties\": {\n        \"dtype\": \"category\",\n        \"num_unique_values\": 5,\n        \"samples\": [\n          \"2\",\n          \"4+\"\n        ],\n        \"semantic_type\": \"\",\n        \"description\": \"\"\n      }\n    },\n    {\n      \"column\": \"overlooking\",\n      \"properties\": {\n        \"dtype\": \"category\",\n        \"num_unique_values\": 7,\n        \"samples\": [\n          \"Garden/Park\",\n          \"Garden/Park, Pool\"\n        ],\n        \"semantic_type\": \"\",\n        \"description\": \"\"\n      }\n    },\n    {\n      \"column\": \"city\",\n      \"properties\": {\n        \"dtype\": \"category\",\n        \"num_unique_values\": 5,\n        \"samples\": [\n          \"chennai\",\n          \"Mumbai\"\n        ],\n        \"semantic_type\": \"\",\n        \"description\": \"\"\n      }\n    }\n  ]\n}"
            }
          },
          "metadata": {},
          "execution_count": 6
        }
      ]
    },
    {
      "cell_type": "code",
      "source": [
        "# pipeline\n",
        "col = df.select_dtypes(include=object).columns.tolist()"
      ],
      "metadata": {
        "id": "g0MPMgzYFq9o"
      },
      "execution_count": 7,
      "outputs": []
    },
    {
      "cell_type": "code",
      "source": [
        "col"
      ],
      "metadata": {
        "colab": {
          "base_uri": "https://localhost:8080/"
        },
        "id": "zljexWbLGUrX",
        "outputId": "746e06f5-46d9-4561-d3dd-2624bea4bedc"
      },
      "execution_count": 8,
      "outputs": [
        {
          "output_type": "execute_result",
          "data": {
            "text/plain": [
              "['BHK',\n",
              " 'sector',\n",
              " 'floor',\n",
              " 'Furnishing',\n",
              " 'facing',\n",
              " 'Car_Parking',\n",
              " 'Bathroom',\n",
              " 'Balcony',\n",
              " 'overlooking',\n",
              " 'city']"
            ]
          },
          "metadata": {},
          "execution_count": 8
        }
      ]
    },
    {
      "cell_type": "code",
      "source": [
        "len(test_df['sector'].unique())"
      ],
      "metadata": {
        "colab": {
          "base_uri": "https://localhost:8080/"
        },
        "id": "8J1XCxKRGVyc",
        "outputId": "1dc44656-be25-4ceb-effa-5ec6cd280a49"
      },
      "execution_count": 9,
      "outputs": [
        {
          "output_type": "execute_result",
          "data": {
            "text/plain": [
              "106"
            ]
          },
          "metadata": {},
          "execution_count": 9
        }
      ]
    },
    {
      "cell_type": "code",
      "source": [
        "X = test_df.drop(columns=['price'])\n",
        "y = test_df['price']"
      ],
      "metadata": {
        "id": "tH5tukozIg6b"
      },
      "execution_count": 10,
      "outputs": []
    },
    {
      "cell_type": "code",
      "source": [
        "preprocessor = ColumnTransformer(\n",
        "    transformers=[\n",
        "        ('num',StandardScaler(),['SuperArea']),\n",
        "        ('cat',OneHotEncoder(drop='first'),col)\n",
        "    ],\n",
        "    remainder='passthrough'\n",
        ")"
      ],
      "metadata": {
        "id": "T-TeYQmfGkCV"
      },
      "execution_count": 23,
      "outputs": []
    },
    {
      "cell_type": "code",
      "source": [
        "pipeline= Pipeline(\n",
        "    steps=[\n",
        "        ('preprocessor',preprocessor),\n",
        "        ('model',LinearRegression())\n",
        "    ]\n",
        ")"
      ],
      "metadata": {
        "id": "5VoHbnmZHn6g"
      },
      "execution_count": 24,
      "outputs": []
    },
    {
      "cell_type": "code",
      "source": [
        "# using K-fold cross val socre\n",
        "kfold = KFold(n_splits=10,shuffle=True,random_state=42)\n",
        "score = cross_val_score(pipeline,X,y,cv=kfold,scoring='r2')"
      ],
      "metadata": {
        "id": "3g_bOJj4IO4K"
      },
      "execution_count": 25,
      "outputs": []
    },
    {
      "cell_type": "code",
      "source": [
        "score.mean()"
      ],
      "metadata": {
        "colab": {
          "base_uri": "https://localhost:8080/"
        },
        "id": "3IGLgq5XIoqn",
        "outputId": "d516eab1-acee-41d4-f7e4-b5234ec9ce7c"
      },
      "execution_count": 26,
      "outputs": [
        {
          "output_type": "execute_result",
          "data": {
            "text/plain": [
              "0.6144426126815613"
            ]
          },
          "metadata": {},
          "execution_count": 26
        }
      ]
    },
    {
      "cell_type": "code",
      "source": [
        "score.std()"
      ],
      "metadata": {
        "colab": {
          "base_uri": "https://localhost:8080/"
        },
        "id": "Xcrrjm6KIqaE",
        "outputId": "549bcb53-83cc-4b18-d1cb-cbf9d034c2e8"
      },
      "execution_count": 27,
      "outputs": [
        {
          "output_type": "execute_result",
          "data": {
            "text/plain": [
              "0.04361148683634919"
            ]
          },
          "metadata": {},
          "execution_count": 27
        }
      ]
    },
    {
      "cell_type": "code",
      "source": [
        "X_train,X_test,y_train,y_test = train_test_split(X,y,test_size=0.2,random_state=42)"
      ],
      "metadata": {
        "id": "qqAbfReCI7Rb"
      },
      "execution_count": 28,
      "outputs": []
    },
    {
      "cell_type": "code",
      "source": [
        "pipeline.fit(X_train,y_train)"
      ],
      "metadata": {
        "colab": {
          "base_uri": "https://localhost:8080/",
          "height": 191
        },
        "id": "Q1JXA15NIwS9",
        "outputId": "303ed31a-8407-4b37-a2fe-da72f61b3bbb"
      },
      "execution_count": 29,
      "outputs": [
        {
          "output_type": "execute_result",
          "data": {
            "text/plain": [
              "Pipeline(steps=[('preprocessor',\n",
              "                 ColumnTransformer(remainder='passthrough',\n",
              "                                   transformers=[('num', StandardScaler(),\n",
              "                                                  ['SuperArea']),\n",
              "                                                 ('cat',\n",
              "                                                  OneHotEncoder(drop='first'),\n",
              "                                                  ['BHK', 'sector', 'floor',\n",
              "                                                   'Furnishing', 'facing',\n",
              "                                                   'Car_Parking', 'Bathroom',\n",
              "                                                   'Balcony', 'overlooking',\n",
              "                                                   'city'])])),\n",
              "                ('model', LinearRegression())])"
            ],
            "text/html": [
              "<style>#sk-container-id-1 {color: black;}#sk-container-id-1 pre{padding: 0;}#sk-container-id-1 div.sk-toggleable {background-color: white;}#sk-container-id-1 label.sk-toggleable__label {cursor: pointer;display: block;width: 100%;margin-bottom: 0;padding: 0.3em;box-sizing: border-box;text-align: center;}#sk-container-id-1 label.sk-toggleable__label-arrow:before {content: \"▸\";float: left;margin-right: 0.25em;color: #696969;}#sk-container-id-1 label.sk-toggleable__label-arrow:hover:before {color: black;}#sk-container-id-1 div.sk-estimator:hover label.sk-toggleable__label-arrow:before {color: black;}#sk-container-id-1 div.sk-toggleable__content {max-height: 0;max-width: 0;overflow: hidden;text-align: left;background-color: #f0f8ff;}#sk-container-id-1 div.sk-toggleable__content pre {margin: 0.2em;color: black;border-radius: 0.25em;background-color: #f0f8ff;}#sk-container-id-1 input.sk-toggleable__control:checked~div.sk-toggleable__content {max-height: 200px;max-width: 100%;overflow: auto;}#sk-container-id-1 input.sk-toggleable__control:checked~label.sk-toggleable__label-arrow:before {content: \"▾\";}#sk-container-id-1 div.sk-estimator input.sk-toggleable__control:checked~label.sk-toggleable__label {background-color: #d4ebff;}#sk-container-id-1 div.sk-label input.sk-toggleable__control:checked~label.sk-toggleable__label {background-color: #d4ebff;}#sk-container-id-1 input.sk-hidden--visually {border: 0;clip: rect(1px 1px 1px 1px);clip: rect(1px, 1px, 1px, 1px);height: 1px;margin: -1px;overflow: hidden;padding: 0;position: absolute;width: 1px;}#sk-container-id-1 div.sk-estimator {font-family: monospace;background-color: #f0f8ff;border: 1px dotted black;border-radius: 0.25em;box-sizing: border-box;margin-bottom: 0.5em;}#sk-container-id-1 div.sk-estimator:hover {background-color: #d4ebff;}#sk-container-id-1 div.sk-parallel-item::after {content: \"\";width: 100%;border-bottom: 1px solid gray;flex-grow: 1;}#sk-container-id-1 div.sk-label:hover label.sk-toggleable__label {background-color: #d4ebff;}#sk-container-id-1 div.sk-serial::before {content: \"\";position: absolute;border-left: 1px solid gray;box-sizing: border-box;top: 0;bottom: 0;left: 50%;z-index: 0;}#sk-container-id-1 div.sk-serial {display: flex;flex-direction: column;align-items: center;background-color: white;padding-right: 0.2em;padding-left: 0.2em;position: relative;}#sk-container-id-1 div.sk-item {position: relative;z-index: 1;}#sk-container-id-1 div.sk-parallel {display: flex;align-items: stretch;justify-content: center;background-color: white;position: relative;}#sk-container-id-1 div.sk-item::before, #sk-container-id-1 div.sk-parallel-item::before {content: \"\";position: absolute;border-left: 1px solid gray;box-sizing: border-box;top: 0;bottom: 0;left: 50%;z-index: -1;}#sk-container-id-1 div.sk-parallel-item {display: flex;flex-direction: column;z-index: 1;position: relative;background-color: white;}#sk-container-id-1 div.sk-parallel-item:first-child::after {align-self: flex-end;width: 50%;}#sk-container-id-1 div.sk-parallel-item:last-child::after {align-self: flex-start;width: 50%;}#sk-container-id-1 div.sk-parallel-item:only-child::after {width: 0;}#sk-container-id-1 div.sk-dashed-wrapped {border: 1px dashed gray;margin: 0 0.4em 0.5em 0.4em;box-sizing: border-box;padding-bottom: 0.4em;background-color: white;}#sk-container-id-1 div.sk-label label {font-family: monospace;font-weight: bold;display: inline-block;line-height: 1.2em;}#sk-container-id-1 div.sk-label-container {text-align: center;}#sk-container-id-1 div.sk-container {/* jupyter's `normalize.less` sets `[hidden] { display: none; }` but bootstrap.min.css set `[hidden] { display: none !important; }` so we also need the `!important` here to be able to override the default hidden behavior on the sphinx rendered scikit-learn.org. See: https://github.com/scikit-learn/scikit-learn/issues/21755 */display: inline-block !important;position: relative;}#sk-container-id-1 div.sk-text-repr-fallback {display: none;}</style><div id=\"sk-container-id-1\" class=\"sk-top-container\"><div class=\"sk-text-repr-fallback\"><pre>Pipeline(steps=[(&#x27;preprocessor&#x27;,\n",
              "                 ColumnTransformer(remainder=&#x27;passthrough&#x27;,\n",
              "                                   transformers=[(&#x27;num&#x27;, StandardScaler(),\n",
              "                                                  [&#x27;SuperArea&#x27;]),\n",
              "                                                 (&#x27;cat&#x27;,\n",
              "                                                  OneHotEncoder(drop=&#x27;first&#x27;),\n",
              "                                                  [&#x27;BHK&#x27;, &#x27;sector&#x27;, &#x27;floor&#x27;,\n",
              "                                                   &#x27;Furnishing&#x27;, &#x27;facing&#x27;,\n",
              "                                                   &#x27;Car_Parking&#x27;, &#x27;Bathroom&#x27;,\n",
              "                                                   &#x27;Balcony&#x27;, &#x27;overlooking&#x27;,\n",
              "                                                   &#x27;city&#x27;])])),\n",
              "                (&#x27;model&#x27;, LinearRegression())])</pre><b>In a Jupyter environment, please rerun this cell to show the HTML representation or trust the notebook. <br />On GitHub, the HTML representation is unable to render, please try loading this page with nbviewer.org.</b></div><div class=\"sk-container\" hidden><div class=\"sk-item sk-dashed-wrapped\"><div class=\"sk-label-container\"><div class=\"sk-label sk-toggleable\"><input class=\"sk-toggleable__control sk-hidden--visually\" id=\"sk-estimator-id-1\" type=\"checkbox\" ><label for=\"sk-estimator-id-1\" class=\"sk-toggleable__label sk-toggleable__label-arrow\">Pipeline</label><div class=\"sk-toggleable__content\"><pre>Pipeline(steps=[(&#x27;preprocessor&#x27;,\n",
              "                 ColumnTransformer(remainder=&#x27;passthrough&#x27;,\n",
              "                                   transformers=[(&#x27;num&#x27;, StandardScaler(),\n",
              "                                                  [&#x27;SuperArea&#x27;]),\n",
              "                                                 (&#x27;cat&#x27;,\n",
              "                                                  OneHotEncoder(drop=&#x27;first&#x27;),\n",
              "                                                  [&#x27;BHK&#x27;, &#x27;sector&#x27;, &#x27;floor&#x27;,\n",
              "                                                   &#x27;Furnishing&#x27;, &#x27;facing&#x27;,\n",
              "                                                   &#x27;Car_Parking&#x27;, &#x27;Bathroom&#x27;,\n",
              "                                                   &#x27;Balcony&#x27;, &#x27;overlooking&#x27;,\n",
              "                                                   &#x27;city&#x27;])])),\n",
              "                (&#x27;model&#x27;, LinearRegression())])</pre></div></div></div><div class=\"sk-serial\"><div class=\"sk-item sk-dashed-wrapped\"><div class=\"sk-label-container\"><div class=\"sk-label sk-toggleable\"><input class=\"sk-toggleable__control sk-hidden--visually\" id=\"sk-estimator-id-2\" type=\"checkbox\" ><label for=\"sk-estimator-id-2\" class=\"sk-toggleable__label sk-toggleable__label-arrow\">preprocessor: ColumnTransformer</label><div class=\"sk-toggleable__content\"><pre>ColumnTransformer(remainder=&#x27;passthrough&#x27;,\n",
              "                  transformers=[(&#x27;num&#x27;, StandardScaler(), [&#x27;SuperArea&#x27;]),\n",
              "                                (&#x27;cat&#x27;, OneHotEncoder(drop=&#x27;first&#x27;),\n",
              "                                 [&#x27;BHK&#x27;, &#x27;sector&#x27;, &#x27;floor&#x27;, &#x27;Furnishing&#x27;,\n",
              "                                  &#x27;facing&#x27;, &#x27;Car_Parking&#x27;, &#x27;Bathroom&#x27;,\n",
              "                                  &#x27;Balcony&#x27;, &#x27;overlooking&#x27;, &#x27;city&#x27;])])</pre></div></div></div><div class=\"sk-parallel\"><div class=\"sk-parallel-item\"><div class=\"sk-item\"><div class=\"sk-label-container\"><div class=\"sk-label sk-toggleable\"><input class=\"sk-toggleable__control sk-hidden--visually\" id=\"sk-estimator-id-3\" type=\"checkbox\" ><label for=\"sk-estimator-id-3\" class=\"sk-toggleable__label sk-toggleable__label-arrow\">num</label><div class=\"sk-toggleable__content\"><pre>[&#x27;SuperArea&#x27;]</pre></div></div></div><div class=\"sk-serial\"><div class=\"sk-item\"><div class=\"sk-estimator sk-toggleable\"><input class=\"sk-toggleable__control sk-hidden--visually\" id=\"sk-estimator-id-4\" type=\"checkbox\" ><label for=\"sk-estimator-id-4\" class=\"sk-toggleable__label sk-toggleable__label-arrow\">StandardScaler</label><div class=\"sk-toggleable__content\"><pre>StandardScaler()</pre></div></div></div></div></div></div><div class=\"sk-parallel-item\"><div class=\"sk-item\"><div class=\"sk-label-container\"><div class=\"sk-label sk-toggleable\"><input class=\"sk-toggleable__control sk-hidden--visually\" id=\"sk-estimator-id-5\" type=\"checkbox\" ><label for=\"sk-estimator-id-5\" class=\"sk-toggleable__label sk-toggleable__label-arrow\">cat</label><div class=\"sk-toggleable__content\"><pre>[&#x27;BHK&#x27;, &#x27;sector&#x27;, &#x27;floor&#x27;, &#x27;Furnishing&#x27;, &#x27;facing&#x27;, &#x27;Car_Parking&#x27;, &#x27;Bathroom&#x27;, &#x27;Balcony&#x27;, &#x27;overlooking&#x27;, &#x27;city&#x27;]</pre></div></div></div><div class=\"sk-serial\"><div class=\"sk-item\"><div class=\"sk-estimator sk-toggleable\"><input class=\"sk-toggleable__control sk-hidden--visually\" id=\"sk-estimator-id-6\" type=\"checkbox\" ><label for=\"sk-estimator-id-6\" class=\"sk-toggleable__label sk-toggleable__label-arrow\">OneHotEncoder</label><div class=\"sk-toggleable__content\"><pre>OneHotEncoder(drop=&#x27;first&#x27;)</pre></div></div></div></div></div></div><div class=\"sk-parallel-item\"><div class=\"sk-item\"><div class=\"sk-label-container\"><div class=\"sk-label sk-toggleable\"><input class=\"sk-toggleable__control sk-hidden--visually\" id=\"sk-estimator-id-7\" type=\"checkbox\" ><label for=\"sk-estimator-id-7\" class=\"sk-toggleable__label sk-toggleable__label-arrow\">remainder</label><div class=\"sk-toggleable__content\"><pre>[]</pre></div></div></div><div class=\"sk-serial\"><div class=\"sk-item\"><div class=\"sk-estimator sk-toggleable\"><input class=\"sk-toggleable__control sk-hidden--visually\" id=\"sk-estimator-id-8\" type=\"checkbox\" ><label for=\"sk-estimator-id-8\" class=\"sk-toggleable__label sk-toggleable__label-arrow\">passthrough</label><div class=\"sk-toggleable__content\"><pre>passthrough</pre></div></div></div></div></div></div></div></div><div class=\"sk-item\"><div class=\"sk-estimator sk-toggleable\"><input class=\"sk-toggleable__control sk-hidden--visually\" id=\"sk-estimator-id-9\" type=\"checkbox\" ><label for=\"sk-estimator-id-9\" class=\"sk-toggleable__label sk-toggleable__label-arrow\">LinearRegression</label><div class=\"sk-toggleable__content\"><pre>LinearRegression()</pre></div></div></div></div></div></div></div>"
            ]
          },
          "metadata": {},
          "execution_count": 29
        }
      ]
    },
    {
      "cell_type": "code",
      "source": [
        "y_pred = pipeline.predict(X_test)"
      ],
      "metadata": {
        "id": "oYpBm7fMJNG7"
      },
      "execution_count": 30,
      "outputs": []
    },
    {
      "cell_type": "code",
      "source": [
        "y_pred = np.expm1(y_pred)"
      ],
      "metadata": {
        "id": "UUxAsNAwJSBL"
      },
      "execution_count": 31,
      "outputs": []
    },
    {
      "cell_type": "code",
      "source": [
        "mean_squared_error(y_test,y_pred)"
      ],
      "metadata": {
        "colab": {
          "base_uri": "https://localhost:8080/"
        },
        "id": "sRKDIzIXJYU2",
        "outputId": "1bc173b7-a97f-4988-c526-0fae2277919a"
      },
      "execution_count": 32,
      "outputs": [
        {
          "output_type": "execute_result",
          "data": {
            "text/plain": [
              "18108873924.100792"
            ]
          },
          "metadata": {},
          "execution_count": 32
        }
      ]
    },
    {
      "cell_type": "code",
      "source": [
        "pipeline= Pipeline(\n",
        "    steps=[\n",
        "        ('preprocessor',preprocessor),\n",
        "        ('model',Lasso())\n",
        "    ]\n",
        ")\n",
        "\n",
        "kfold = KFold(n_splits=10,shuffle=True,random_state=42)\n",
        "score = cross_val_score(pipeline,X,y,cv=kfold,scoring='r2')\n",
        "score.mean()"
      ],
      "metadata": {
        "colab": {
          "base_uri": "https://localhost:8080/"
        },
        "id": "a4u-UR2RJazF",
        "outputId": "303f05e2-81c4-45f6-81c8-2b57718a1bc3"
      },
      "execution_count": 33,
      "outputs": [
        {
          "output_type": "execute_result",
          "data": {
            "text/plain": [
              "0.1680209283015579"
            ]
          },
          "metadata": {},
          "execution_count": 33
        }
      ]
    },
    {
      "cell_type": "code",
      "source": [
        "score"
      ],
      "metadata": {
        "colab": {
          "base_uri": "https://localhost:8080/"
        },
        "id": "SxbLUHw3KS8I",
        "outputId": "e055da1c-cbd4-4a75-ab9b-d4c03746d3c9"
      },
      "execution_count": 34,
      "outputs": [
        {
          "output_type": "execute_result",
          "data": {
            "text/plain": [
              "array([0.18709297, 0.1490089 , 0.13061319, 0.13896385, 0.1772815 ,\n",
              "       0.19247135, 0.1750397 , 0.1720097 , 0.17455219, 0.18317593])"
            ]
          },
          "metadata": {},
          "execution_count": 34
        }
      ]
    },
    {
      "cell_type": "code",
      "source": [
        "pipeline= Pipeline(\n",
        "    steps=[\n",
        "        ('preprocessor',preprocessor),\n",
        "        ('model',Ridge())\n",
        "    ]\n",
        ")\n",
        "\n",
        "kfold = KFold(n_splits=10,shuffle=True,random_state=42)\n",
        "score = cross_val_score(pipeline,X,y,cv=kfold,scoring='r2')\n",
        "score.mean()"
      ],
      "metadata": {
        "colab": {
          "base_uri": "https://localhost:8080/"
        },
        "id": "7brucd_qKWGc",
        "outputId": "ad36b0e1-6aac-417d-ce79-2eb2a4cf162c"
      },
      "execution_count": 35,
      "outputs": [
        {
          "output_type": "execute_result",
          "data": {
            "text/plain": [
              "0.6150494861597451"
            ]
          },
          "metadata": {},
          "execution_count": 35
        }
      ]
    },
    {
      "cell_type": "code",
      "source": [
        "pipeline= Pipeline(\n",
        "    steps=[\n",
        "        ('preprocessor',preprocessor),\n",
        "        ('model',DecisionTreeRegressor())\n",
        "    ]\n",
        ")\n",
        "\n",
        "kfold = KFold(n_splits=10,shuffle=True,random_state=42)\n",
        "score = cross_val_score(pipeline,X,y,cv=kfold,scoring='r2')\n",
        "score.mean()"
      ],
      "metadata": {
        "colab": {
          "base_uri": "https://localhost:8080/"
        },
        "id": "0IdjhBVNKdjI",
        "outputId": "87f7381c-d7ce-4bd5-c8a9-97d94a84baaa"
      },
      "execution_count": 36,
      "outputs": [
        {
          "output_type": "execute_result",
          "data": {
            "text/plain": [
              "0.4621802250798718"
            ]
          },
          "metadata": {},
          "execution_count": 36
        }
      ]
    },
    {
      "cell_type": "code",
      "source": [
        "pipeline= Pipeline(\n",
        "    steps=[\n",
        "        ('preprocessor',preprocessor),\n",
        "        ('model',KNeighborsRegressor())\n",
        "    ]\n",
        ")\n",
        "\n",
        "kfold = KFold(n_splits=10,shuffle=True,random_state=42)\n",
        "score = cross_val_score(pipeline,X,y,cv=kfold,scoring='r2')\n",
        "score.mean()"
      ],
      "metadata": {
        "colab": {
          "base_uri": "https://localhost:8080/"
        },
        "id": "y7JRAlb9Kw_R",
        "outputId": "d4fc8a60-f048-4280-dfd1-54fefd58209e"
      },
      "execution_count": 37,
      "outputs": [
        {
          "output_type": "execute_result",
          "data": {
            "text/plain": [
              "0.6091462837043043"
            ]
          },
          "metadata": {},
          "execution_count": 37
        }
      ]
    },
    {
      "cell_type": "code",
      "source": [
        "pipeline= Pipeline(\n",
        "    steps=[\n",
        "        ('preprocessor',preprocessor),\n",
        "        ('model',RandomForestRegressor())\n",
        "    ]\n",
        ")\n",
        "\n",
        "kfold = KFold(n_splits=10,shuffle=True,random_state=42)\n",
        "score = cross_val_score(pipeline,X,y,cv=kfold,scoring='r2')\n",
        "score.mean()"
      ],
      "metadata": {
        "colab": {
          "base_uri": "https://localhost:8080/"
        },
        "id": "zQRrdftILGEm",
        "outputId": "d7383cf2-f1a9-4b29-e5f1-572150573302"
      },
      "execution_count": 38,
      "outputs": [
        {
          "output_type": "execute_result",
          "data": {
            "text/plain": [
              "0.7003749697117402"
            ]
          },
          "metadata": {},
          "execution_count": 38
        }
      ]
    },
    {
      "cell_type": "code",
      "source": [
        "pipeline= Pipeline(\n",
        "    steps=[\n",
        "        ('preprocessor',preprocessor),\n",
        "        ('model',xg.XGBRegressor(objective ='reg:linear',\n",
        "                  n_estimators = 100, seed = 123) )\n",
        "    ]\n",
        ")\n",
        "\n",
        "kfold = KFold(n_splits=15,shuffle=True,random_state=42)\n",
        "score = cross_val_score(pipeline,X,y,cv=kfold,scoring='r2')\n",
        "score.mean()"
      ],
      "metadata": {
        "colab": {
          "base_uri": "https://localhost:8080/"
        },
        "id": "tlARwoD6NSxG",
        "outputId": "88b29713-5654-46f0-ff24-22135b422c68"
      },
      "execution_count": 39,
      "outputs": [
        {
          "output_type": "execute_result",
          "data": {
            "text/plain": [
              "0.7044752521433877"
            ]
          },
          "metadata": {},
          "execution_count": 39
        }
      ]
    },
    {
      "cell_type": "code",
      "source": [
        "pipeline= Pipeline(\n",
        "    steps=[\n",
        "        ('preprocessor',preprocessor),\n",
        "        ('model',SVR() )\n",
        "    ]\n",
        ")\n",
        "\n",
        "kfold = KFold(n_splits=15,shuffle=True,random_state=42)\n",
        "score = cross_val_score(pipeline,X,y,cv=kfold,scoring='r2')\n",
        "score.mean()"
      ],
      "metadata": {
        "colab": {
          "base_uri": "https://localhost:8080/"
        },
        "id": "KD2cXoxhNcR3",
        "outputId": "e03fde4b-213a-4eed-9004-4dc754609d93"
      },
      "execution_count": 40,
      "outputs": [
        {
          "output_type": "execute_result",
          "data": {
            "text/plain": [
              "0.6307106611872247"
            ]
          },
          "metadata": {},
          "execution_count": 40
        }
      ]
    },
    {
      "cell_type": "code",
      "source": [
        "pipeline= Pipeline(\n",
        "    steps=[\n",
        "        ('preprocessor',preprocessor),\n",
        "        ('model',AdaBoostRegressor() )\n",
        "    ]\n",
        ")\n",
        "\n",
        "kfold = KFold(n_splits=15,shuffle=True,random_state=42)\n",
        "score = cross_val_score(pipeline,X,y,cv=kfold,scoring='r2')\n",
        "score.mean()"
      ],
      "metadata": {
        "colab": {
          "base_uri": "https://localhost:8080/"
        },
        "id": "0Y4kd9FWOZrw",
        "outputId": "f151915d-0bfd-4a43-86e9-324508047815"
      },
      "execution_count": 41,
      "outputs": [
        {
          "output_type": "execute_result",
          "data": {
            "text/plain": [
              "0.08660201019127418"
            ]
          },
          "metadata": {},
          "execution_count": 41
        }
      ]
    },
    {
      "cell_type": "code",
      "source": [
        "pipeline= Pipeline(\n",
        "    steps=[\n",
        "        ('preprocessor',preprocessor),\n",
        "        ('model',GradientBoostingRegressor() )\n",
        "    ]\n",
        ")\n",
        "\n",
        "kfold = KFold(n_splits=15,shuffle=True,random_state=42)\n",
        "score = cross_val_score(pipeline,X,y,cv=kfold,scoring='r2')\n",
        "score.mean()"
      ],
      "metadata": {
        "colab": {
          "base_uri": "https://localhost:8080/"
        },
        "id": "NEIuA4IMPFoN",
        "outputId": "e8f9c73c-2d03-43f6-ff5d-23ae4cac64c5"
      },
      "execution_count": 42,
      "outputs": [
        {
          "output_type": "execute_result",
          "data": {
            "text/plain": [
              "0.7115475401455947"
            ]
          },
          "metadata": {},
          "execution_count": 42
        }
      ]
    },
    {
      "cell_type": "code",
      "source": [
        "from sklearn.neural_network import MLPRegressor\n",
        "pipeline= Pipeline(\n",
        "    steps=[\n",
        "        ('preprocessor',preprocessor),\n",
        "        ('model',MLPRegressor(random_state=1, max_iter=50))\n",
        "    ]\n",
        ")\n",
        "\n",
        "kfold = KFold(n_splits=15,shuffle=True,random_state=42)\n",
        "score = cross_val_score(pipeline,X,y,cv=kfold,scoring='r2')\n",
        "score.mean()"
      ],
      "metadata": {
        "colab": {
          "base_uri": "https://localhost:8080/"
        },
        "id": "WWUfEZBGPOlp",
        "outputId": "dcb98f2d-df3d-4e1b-c499-ae884ef4a459"
      },
      "execution_count": 43,
      "outputs": [
        {
          "output_type": "execute_result",
          "data": {
            "text/plain": [
              "0.7342462341073114"
            ]
          },
          "metadata": {},
          "execution_count": 43
        }
      ]
    },
    {
      "cell_type": "code",
      "source": [
        "preprocessor = ColumnTransformer(\n",
        "    transformers=[\n",
        "        ('num',StandardScaler(),['SuperArea']),\n",
        "        ('cat',OneHotEncoder(),col)\n",
        "    ],\n",
        "    remainder='passthrough'\n",
        ")"
      ],
      "metadata": {
        "id": "76sNxvMXRfzI"
      },
      "execution_count": 59,
      "outputs": []
    },
    {
      "cell_type": "code",
      "source": [
        "def modelsscore(model_name,model):\n",
        "  score={}\n",
        "  pipeline= Pipeline(\n",
        "    steps=[\n",
        "        ('preprocessor',preprocessor),\n",
        "        ('model',model)\n",
        "    ]\n",
        "  )\n",
        "  kfold = KFold(n_splits=15,shuffle=True,random_state=42)\n",
        "  score = cross_val_score(pipeline,X,y,cv=kfold,scoring='r2')\n",
        "  score={f'{model_name}': score.mean()}\n",
        "  return score"
      ],
      "metadata": {
        "id": "fY7YaUx9QDNz"
      },
      "execution_count": 45,
      "outputs": []
    },
    {
      "cell_type": "code",
      "source": [
        "model_dict = {\n",
        "    'linear_reg':LinearRegression(),\n",
        "    'svr':SVR(),\n",
        "    'ridge':Ridge(),\n",
        "    'LASSO':Lasso(),\n",
        "    'decision tree': DecisionTreeRegressor(),\n",
        "    'random forest':RandomForestRegressor(),\n",
        "    'knn':KNeighborsRegressor(),\n",
        "    'gradient boosting': GradientBoostingRegressor(),\n",
        "    'adaboost': AdaBoostRegressor(),\n",
        "    'mlp': MLPRegressor(),\n",
        "    'xgboost':xg.XGBRegressor(objective ='reg:linear',\n",
        "                  n_estimators = 100, seed = 123)\n",
        "}"
      ],
      "metadata": {
        "id": "39ATneVZT83s"
      },
      "execution_count": 23,
      "outputs": []
    },
    {
      "cell_type": "code",
      "source": [
        "for model_name,model in model_dict.items():\n",
        "  score = modelsscore(model_name,model)\n",
        "  print(score)"
      ],
      "metadata": {
        "colab": {
          "base_uri": "https://localhost:8080/"
        },
        "id": "cPSMG8MTSlOc",
        "outputId": "1e8d40df-59a6-456c-da4c-f5892d127c2d"
      },
      "execution_count": 49,
      "outputs": [
        {
          "output_type": "stream",
          "name": "stdout",
          "text": [
            "{'LinearRegression()': 0.6129028339192523}\n",
            "{'SVR()': 0.6339072385477464}\n",
            "{'Ridge()': 0.6138088755618186}\n",
            "{'Lasso()': 0.1689010906515867}\n",
            "{'DecisionTreeRegressor()': 0.44105125320824123}\n",
            "{'RandomForestRegressor()': 0.6962608099602109}\n",
            "{'KNeighborsRegressor()': 0.6146878213908491}\n",
            "{'GradientBoostingRegressor()': 0.7128830243291622}\n",
            "{'AdaBoostRegressor()': 0.07678160905753553}\n",
            "{'MLPRegressor()': 0.6599702748567461}\n",
            "{\"XGBRegressor(base_score=None, booster=None, callbacks=None,\\n             colsample_bylevel=None, colsample_bynode=None,\\n             colsample_bytree=None, device=None, early_stopping_rounds=None,\\n             enable_categorical=False, eval_metric=None, feature_types=None,\\n             gamma=None, grow_policy=None, importance_type=None,\\n             interaction_constraints=None, learning_rate=None, max_bin=None,\\n             max_cat_threshold=None, max_cat_to_onehot=None,\\n             max_delta_step=None, max_depth=None, max_leaves=None,\\n             min_child_weight=None, missing=nan, monotone_constraints=None,\\n             multi_strategy=None, n_estimators=100, n_jobs=None,\\n             num_parallel_tree=None, objective='reg:linear', ...)\": 0.7131759788449037}\n"
          ]
        }
      ]
    }
  ]
}