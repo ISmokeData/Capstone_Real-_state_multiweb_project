{
 "cells": [
  {
   "cell_type": "code",
   "execution_count": 12,
   "metadata": {},
   "outputs": [],
   "source": [
    "import pandas as pd\n",
    "import numpy as np\n",
    "import matplotlib.pyplot as plt\n",
    "import seaborn as sns\n",
    "plt.style.use('fivethirtyeight')"
   ]
  },
  {
   "cell_type": "code",
   "execution_count": 4,
   "metadata": {},
   "outputs": [],
   "source": [
    "df = pd.read_csv('../Missing_value/clean_data.csv')"
   ]
  },
  {
   "cell_type": "code",
   "execution_count": 5,
   "metadata": {},
   "outputs": [
    {
     "data": {
      "text/html": [
       "<div>\n",
       "<style scoped>\n",
       "    .dataframe tbody tr th:only-of-type {\n",
       "        vertical-align: middle;\n",
       "    }\n",
       "\n",
       "    .dataframe tbody tr th {\n",
       "        vertical-align: top;\n",
       "    }\n",
       "\n",
       "    .dataframe thead th {\n",
       "        text-align: right;\n",
       "    }\n",
       "</style>\n",
       "<table border=\"1\" class=\"dataframe\">\n",
       "  <thead>\n",
       "    <tr style=\"text-align: right;\">\n",
       "      <th></th>\n",
       "      <th>index</th>\n",
       "      <th>BHK</th>\n",
       "      <th>sector</th>\n",
       "      <th>price</th>\n",
       "      <th>price_persqft</th>\n",
       "      <th>SuperArea</th>\n",
       "      <th>floor</th>\n",
       "      <th>Furnishing</th>\n",
       "      <th>facing</th>\n",
       "      <th>Car_Parking</th>\n",
       "      <th>Bathroom</th>\n",
       "      <th>Balcony</th>\n",
       "      <th>overlooking</th>\n",
       "      <th>city</th>\n",
       "    </tr>\n",
       "  </thead>\n",
       "  <tbody>\n",
       "    <tr>\n",
       "      <th>0</th>\n",
       "      <td>0.0</td>\n",
       "      <td>3</td>\n",
       "      <td>Panathur</td>\n",
       "      <td>2.25</td>\n",
       "      <td>13966.0</td>\n",
       "      <td>1611.0</td>\n",
       "      <td>10+</td>\n",
       "      <td>Unfurnished</td>\n",
       "      <td>East</td>\n",
       "      <td>available</td>\n",
       "      <td>2</td>\n",
       "      <td>1</td>\n",
       "      <td>Garden/Park</td>\n",
       "      <td>Bangalore</td>\n",
       "    </tr>\n",
       "    <tr>\n",
       "      <th>1</th>\n",
       "      <td>1.0</td>\n",
       "      <td>3</td>\n",
       "      <td>Panathur</td>\n",
       "      <td>2.13</td>\n",
       "      <td>12909.0</td>\n",
       "      <td>1650.0</td>\n",
       "      <td>10+</td>\n",
       "      <td>Unfurnished</td>\n",
       "      <td>East</td>\n",
       "      <td>available</td>\n",
       "      <td>3</td>\n",
       "      <td>2</td>\n",
       "      <td>Garden/Park</td>\n",
       "      <td>Bangalore</td>\n",
       "    </tr>\n",
       "    <tr>\n",
       "      <th>2</th>\n",
       "      <td>2.0</td>\n",
       "      <td>3</td>\n",
       "      <td>Thanisandra</td>\n",
       "      <td>1.37</td>\n",
       "      <td>9648.0</td>\n",
       "      <td>1420.0</td>\n",
       "      <td>8</td>\n",
       "      <td>Unfurnished</td>\n",
       "      <td>North - East</td>\n",
       "      <td>available</td>\n",
       "      <td>2</td>\n",
       "      <td>1</td>\n",
       "      <td>Garden/Park, Pool</td>\n",
       "      <td>Bangalore</td>\n",
       "    </tr>\n",
       "    <tr>\n",
       "      <th>3</th>\n",
       "      <td>3.0</td>\n",
       "      <td>3</td>\n",
       "      <td>Panathur</td>\n",
       "      <td>1.62</td>\n",
       "      <td>11000.0</td>\n",
       "      <td>1473.0</td>\n",
       "      <td>5</td>\n",
       "      <td>Unfurnished</td>\n",
       "      <td>North - East</td>\n",
       "      <td>available</td>\n",
       "      <td>2</td>\n",
       "      <td>1</td>\n",
       "      <td>Garden/Park, Main Road</td>\n",
       "      <td>Bangalore</td>\n",
       "    </tr>\n",
       "    <tr>\n",
       "      <th>4</th>\n",
       "      <td>4.0</td>\n",
       "      <td>4</td>\n",
       "      <td>Whitefield</td>\n",
       "      <td>3.93</td>\n",
       "      <td>15023.0</td>\n",
       "      <td>2616.0</td>\n",
       "      <td>10+</td>\n",
       "      <td>Unfurnished</td>\n",
       "      <td>East</td>\n",
       "      <td>available</td>\n",
       "      <td>3</td>\n",
       "      <td>2</td>\n",
       "      <td>Garden/Park</td>\n",
       "      <td>Bangalore</td>\n",
       "    </tr>\n",
       "  </tbody>\n",
       "</table>\n",
       "</div>"
      ],
      "text/plain": [
       "   index BHK       sector  price  price_persqft  SuperArea floor   Furnishing  \\\n",
       "0    0.0   3     Panathur   2.25        13966.0     1611.0   10+  Unfurnished   \n",
       "1    1.0   3     Panathur   2.13        12909.0     1650.0   10+  Unfurnished   \n",
       "2    2.0   3  Thanisandra   1.37         9648.0     1420.0     8  Unfurnished   \n",
       "3    3.0   3     Panathur   1.62        11000.0     1473.0     5  Unfurnished   \n",
       "4    4.0   4   Whitefield   3.93        15023.0     2616.0   10+  Unfurnished   \n",
       "\n",
       "         facing Car_Parking Bathroom Balcony             overlooking  \\\n",
       "0          East   available        2       1             Garden/Park   \n",
       "1          East   available        3       2             Garden/Park   \n",
       "2  North - East   available        2       1       Garden/Park, Pool   \n",
       "3  North - East   available        2       1  Garden/Park, Main Road   \n",
       "4          East   available        3       2             Garden/Park   \n",
       "\n",
       "        city  \n",
       "0  Bangalore  \n",
       "1  Bangalore  \n",
       "2  Bangalore  \n",
       "3  Bangalore  \n",
       "4  Bangalore  "
      ]
     },
     "execution_count": 5,
     "metadata": {},
     "output_type": "execute_result"
    }
   ],
   "source": [
    "df.head()"
   ]
  },
  {
   "cell_type": "code",
   "execution_count": 9,
   "metadata": {},
   "outputs": [
    {
     "data": {
      "text/plain": [
       "0"
      ]
     },
     "execution_count": 9,
     "metadata": {},
     "output_type": "execute_result"
    }
   ],
   "source": [
    "df.duplicated().sum()"
   ]
  },
  {
   "cell_type": "code",
   "execution_count": 10,
   "metadata": {},
   "outputs": [
    {
     "name": "stdout",
     "output_type": "stream",
     "text": [
      "<class 'pandas.core.frame.DataFrame'>\n",
      "RangeIndex: 7440 entries, 0 to 7439\n",
      "Data columns (total 14 columns):\n",
      " #   Column         Non-Null Count  Dtype  \n",
      "---  ------         --------------  -----  \n",
      " 0   index          7440 non-null   float64\n",
      " 1   BHK            7440 non-null   object \n",
      " 2   sector         7440 non-null   object \n",
      " 3   price          7440 non-null   float64\n",
      " 4   price_persqft  7440 non-null   float64\n",
      " 5   SuperArea      7440 non-null   float64\n",
      " 6   floor          7440 non-null   object \n",
      " 7   Furnishing     7440 non-null   object \n",
      " 8   facing         7440 non-null   object \n",
      " 9   Car_Parking    7440 non-null   object \n",
      " 10  Bathroom       7440 non-null   object \n",
      " 11  Balcony        7440 non-null   object \n",
      " 12  overlooking    7440 non-null   object \n",
      " 13  city           7440 non-null   object \n",
      "dtypes: float64(4), object(10)\n",
      "memory usage: 813.9+ KB\n"
     ]
    }
   ],
   "source": [
    "df.info()"
   ]
  },
  {
   "cell_type": "markdown",
   "metadata": {},
   "source": [
    "# **Outlier**"
   ]
  },
  {
   "cell_type": "code",
   "execution_count": 14,
   "metadata": {},
   "outputs": [
    {
     "data": {
      "image/png": "[encoded data removed]",
      "text/plain": [
       "<Figure size 640x480 with 1 Axes>"
      ]
     },
     "metadata": {},
     "output_type": "display_data"
    }
   ],
   "source": [
    "plt.boxplot(df['price'])\n",
    "plt.show()"
   ]
  },
  {
   "cell_type": "code",
   "execution_count": 26,
   "metadata": {},
   "outputs": [],
   "source": [
    "col = df[df['price'] > 30].index.tolist()"
   ]
  },
  {
   "cell_type": "code",
   "execution_count": 28,
   "metadata": {},
   "outputs": [
    {
     "name": "stderr",
     "output_type": "stream",
     "text": [
      "C:\\Users\\dhanr\\AppData\\Local\\Temp\\ipykernel_10632\\1370558151.py:1: SettingWithCopyWarning: \n",
      "A value is trying to be set on a copy of a slice from a DataFrame\n",
      "\n",
      "See the caveats in the documentation: https://pandas.pydata.org/pandas-docs/stable/user_guide/indexing.html#returning-a-view-versus-a-copy\n",
      "  df['price'].iloc[col] = 30.00\n"
     ]
    }
   ],
   "source": [
    "df['price'].iloc[col] = 30.00"
   ]
  },
  {
   "cell_type": "code",
   "execution_count": 29,
   "metadata": {},
   "outputs": [
    {
     "data": {
      "text/plain": [
       "4200    30.0\n",
       "6137    30.0\n",
       "6201    30.0\n",
       "6350    30.0\n",
       "6357    30.0\n",
       "6369    30.0\n",
       "6387    30.0\n",
       "6527    30.0\n",
       "6744    30.0\n",
       "6898    30.0\n",
       "Name: price, dtype: float64"
      ]
     },
     "execution_count": 29,
     "metadata": {},
     "output_type": "execute_result"
    }
   ],
   "source": [
    "df['price'].iloc[col]"
   ]
  },
  {
   "cell_type": "code",
   "execution_count": 30,
   "metadata": {},
   "outputs": [
    {
     "data": {
      "image/png": "[encoded data removed]",
      "text/plain": [
       "<Figure size 640x480 with 1 Axes>"
      ]
     },
     "metadata": {},
     "output_type": "display_data"
    }
   ],
   "source": [
    "plt.boxplot(df['price'])\n",
    "plt.show()"
   ]
  },
  {
   "cell_type": "code",
   "execution_count": 31,
   "metadata": {},
   "outputs": [
    {
     "data": {
      "image/png": "[encoded data removed]",
      "text/plain": [
       "<Figure size 640x480 with 1 Axes>"
      ]
     },
     "metadata": {},
     "output_type": "display_data"
    }
   ],
   "source": [
    "plt.boxplot(df['SuperArea'])\n",
    "plt.show()"
   ]
  },
  {
   "cell_type": "code",
   "execution_count": 40,
   "metadata": {},
   "outputs": [],
   "source": [
    "col = df[df['SuperArea'] > 10000].index.tolist()"
   ]
  },
  {
   "cell_type": "code",
   "execution_count": 43,
   "metadata": {},
   "outputs": [
    {
     "name": "stderr",
     "output_type": "stream",
     "text": [
      "C:\\Users\\dhanr\\AppData\\Local\\Temp\\ipykernel_10632\\2605388264.py:1: SettingWithCopyWarning: \n",
      "A value is trying to be set on a copy of a slice from a DataFrame\n",
      "\n",
      "See the caveats in the documentation: https://pandas.pydata.org/pandas-docs/stable/user_guide/indexing.html#returning-a-view-versus-a-copy\n",
      "  df['SuperArea'].iloc[col] = 10000.0\n"
     ]
    }
   ],
   "source": [
    "df['SuperArea'].iloc[col] = 10000.0"
   ]
  },
  {
   "cell_type": "code",
   "execution_count": 44,
   "metadata": {},
   "outputs": [
    {
     "data": {
      "image/png": "[encoded data removed]",
      "text/plain": [
       "<Figure size 640x480 with 1 Axes>"
      ]
     },
     "metadata": {},
     "output_type": "display_data"
    }
   ],
   "source": [
    "plt.boxplot(df['SuperArea'])\n",
    "plt.show()"
   ]
  },
  {
   "cell_type": "code",
   "execution_count": 46,
   "metadata": {},
   "outputs": [],
   "source": [
    "df.to_csv('outlier_removed.csv',index=False)"
   ]
  },
  {
   "cell_type": "code",
   "execution_count": null,
   "metadata": {},
   "outputs": [],
   "source": []
  }
 ],
 "metadata": {
  "kernelspec": {
   "display_name": "Python 3",
   "language": "python",
   "name": "python3"
  },
  "language_info": {
   "codemirror_mode": {
    "name": "ipython",
    "version": 3
   },
   "file_extension": ".py",
   "mimetype": "text/x-python",
   "name": "python",
   "nbconvert_exporter": "python",
   "pygments_lexer": "ipython3",
   "version": "3.11.5"
  }
 },
 "nbformat": 4,
 "nbformat_minor": 2
}
