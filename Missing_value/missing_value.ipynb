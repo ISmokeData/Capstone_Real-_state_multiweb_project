{
 "cells": [
  {
   "cell_type": "markdown",
   "metadata": {},
   "source": [
    "## **Missing Value**"
   ]
  },
  {
   "cell_type": "code",
   "execution_count": 1,
   "metadata": {},
   "outputs": [],
   "source": [
    "import pandas as pd\n",
    "import numpy as np"
   ]
  },
  {
   "cell_type": "code",
   "execution_count": 2,
   "metadata": {},
   "outputs": [],
   "source": [
    "df = pd.read_csv('../Feature_Engineering/all_cities_cleaned.csv')"
   ]
  },
  {
   "cell_type": "code",
   "execution_count": 3,
   "metadata": {},
   "outputs": [
    {
     "data": {
      "text/html": [
       "<div>\n",
       "<style scoped>\n",
       "    .dataframe tbody tr th:only-of-type {\n",
       "        vertical-align: middle;\n",
       "    }\n",
       "\n",
       "    .dataframe tbody tr th {\n",
       "        vertical-align: top;\n",
       "    }\n",
       "\n",
       "    .dataframe thead th {\n",
       "        text-align: right;\n",
       "    }\n",
       "</style>\n",
       "<table border=\"1\" class=\"dataframe\">\n",
       "  <thead>\n",
       "    <tr style=\"text-align: right;\">\n",
       "      <th></th>\n",
       "      <th>index</th>\n",
       "      <th>BHK</th>\n",
       "      <th>sector</th>\n",
       "      <th>price</th>\n",
       "      <th>price_persqft</th>\n",
       "      <th>SuperArea</th>\n",
       "      <th>floor</th>\n",
       "      <th>Furnishing</th>\n",
       "      <th>facing</th>\n",
       "      <th>Car_Parking</th>\n",
       "      <th>Bathroom</th>\n",
       "      <th>Balcony</th>\n",
       "      <th>overlooking</th>\n",
       "      <th>city</th>\n",
       "    </tr>\n",
       "  </thead>\n",
       "  <tbody>\n",
       "    <tr>\n",
       "      <th>0</th>\n",
       "      <td>0</td>\n",
       "      <td>3</td>\n",
       "      <td>Panathur</td>\n",
       "      <td>2.25</td>\n",
       "      <td>13966.0</td>\n",
       "      <td>1611.0</td>\n",
       "      <td>10+</td>\n",
       "      <td>Unfurnished</td>\n",
       "      <td>East</td>\n",
       "      <td>available</td>\n",
       "      <td>2</td>\n",
       "      <td>1</td>\n",
       "      <td>Garden/Park</td>\n",
       "      <td>Bangalore</td>\n",
       "    </tr>\n",
       "    <tr>\n",
       "      <th>1</th>\n",
       "      <td>1</td>\n",
       "      <td>3</td>\n",
       "      <td>Panathur</td>\n",
       "      <td>2.13</td>\n",
       "      <td>12909.0</td>\n",
       "      <td>1650.0</td>\n",
       "      <td>10+</td>\n",
       "      <td>Unfurnished</td>\n",
       "      <td>East</td>\n",
       "      <td>available</td>\n",
       "      <td>3</td>\n",
       "      <td>2</td>\n",
       "      <td>Garden/Park</td>\n",
       "      <td>Bangalore</td>\n",
       "    </tr>\n",
       "    <tr>\n",
       "      <th>2</th>\n",
       "      <td>2</td>\n",
       "      <td>3</td>\n",
       "      <td>Thanisandra</td>\n",
       "      <td>1.37</td>\n",
       "      <td>9648.0</td>\n",
       "      <td>1420.0</td>\n",
       "      <td>8</td>\n",
       "      <td>Unfurnished</td>\n",
       "      <td>North - East</td>\n",
       "      <td>available</td>\n",
       "      <td>2</td>\n",
       "      <td>1</td>\n",
       "      <td>Garden/Park, Pool</td>\n",
       "      <td>Bangalore</td>\n",
       "    </tr>\n",
       "    <tr>\n",
       "      <th>3</th>\n",
       "      <td>3</td>\n",
       "      <td>3</td>\n",
       "      <td>Panathur</td>\n",
       "      <td>1.62</td>\n",
       "      <td>11000.0</td>\n",
       "      <td>1473.0</td>\n",
       "      <td>5</td>\n",
       "      <td>Unfurnished</td>\n",
       "      <td>North - East</td>\n",
       "      <td>available</td>\n",
       "      <td>2</td>\n",
       "      <td>1</td>\n",
       "      <td>Garden/Park, Main Road</td>\n",
       "      <td>Bangalore</td>\n",
       "    </tr>\n",
       "    <tr>\n",
       "      <th>4</th>\n",
       "      <td>4</td>\n",
       "      <td>4</td>\n",
       "      <td>Whitefield</td>\n",
       "      <td>3.93</td>\n",
       "      <td>15023.0</td>\n",
       "      <td>2616.0</td>\n",
       "      <td>10+</td>\n",
       "      <td>Unfurnished</td>\n",
       "      <td>East</td>\n",
       "      <td>available</td>\n",
       "      <td>3</td>\n",
       "      <td>2</td>\n",
       "      <td>Garden/Park</td>\n",
       "      <td>Bangalore</td>\n",
       "    </tr>\n",
       "  </tbody>\n",
       "</table>\n",
       "</div>"
      ],
      "text/plain": [
       "   index BHK       sector  price  price_persqft  SuperArea floor   Furnishing  \\\n",
       "0      0   3     Panathur   2.25        13966.0     1611.0   10+  Unfurnished   \n",
       "1      1   3     Panathur   2.13        12909.0     1650.0   10+  Unfurnished   \n",
       "2      2   3  Thanisandra   1.37         9648.0     1420.0     8  Unfurnished   \n",
       "3      3   3     Panathur   1.62        11000.0     1473.0     5  Unfurnished   \n",
       "4      4   4   Whitefield   3.93        15023.0     2616.0   10+  Unfurnished   \n",
       "\n",
       "         facing Car_Parking Bathroom Balcony             overlooking  \\\n",
       "0          East   available        2       1             Garden/Park   \n",
       "1          East   available        3       2             Garden/Park   \n",
       "2  North - East   available        2       1       Garden/Park, Pool   \n",
       "3  North - East   available        2       1  Garden/Park, Main Road   \n",
       "4          East   available        3       2             Garden/Park   \n",
       "\n",
       "        city  \n",
       "0  Bangalore  \n",
       "1  Bangalore  \n",
       "2  Bangalore  \n",
       "3  Bangalore  \n",
       "4  Bangalore  "
      ]
     },
     "execution_count": 3,
     "metadata": {},
     "output_type": "execute_result"
    }
   ],
   "source": [
    "df.head()"
   ]
  },
  {
   "cell_type": "code",
   "execution_count": 4,
   "metadata": {},
   "outputs": [
    {
     "data": {
      "text/plain": [
       "index               0\n",
       "BHK                 0\n",
       "sector              0\n",
       "price               0\n",
       "price_persqft     234\n",
       "SuperArea          45\n",
       "floor             451\n",
       "Furnishing         77\n",
       "facing           2584\n",
       "Car_Parking         0\n",
       "Bathroom           40\n",
       "Balcony          1973\n",
       "overlooking      3125\n",
       "city                0\n",
       "dtype: int64"
      ]
     },
     "execution_count": 4,
     "metadata": {},
     "output_type": "execute_result"
    }
   ],
   "source": [
    "# check for missing values\n",
    "df.isnull().sum()"
   ]
  },
  {
   "cell_type": "code",
   "execution_count": 5,
   "metadata": {},
   "outputs": [
    {
     "name": "stdout",
     "output_type": "stream",
     "text": [
      "<class 'pandas.core.frame.DataFrame'>\n",
      "RangeIndex: 7440 entries, 0 to 7439\n",
      "Data columns (total 14 columns):\n",
      " #   Column         Non-Null Count  Dtype  \n",
      "---  ------         --------------  -----  \n",
      " 0   index          7440 non-null   int64  \n",
      " 1   BHK            7440 non-null   object \n",
      " 2   sector         7440 non-null   object \n",
      " 3   price          7440 non-null   float64\n",
      " 4   price_persqft  7206 non-null   float64\n",
      " 5   SuperArea      7395 non-null   float64\n",
      " 6   floor          6989 non-null   object \n",
      " 7   Furnishing     7363 non-null   object \n",
      " 8   facing         4856 non-null   object \n",
      " 9   Car_Parking    7440 non-null   object \n",
      " 10  Bathroom       7400 non-null   object \n",
      " 11  Balcony        5467 non-null   object \n",
      " 12  overlooking    4315 non-null   object \n",
      " 13  city           7440 non-null   object \n",
      "dtypes: float64(3), int64(1), object(10)\n",
      "memory usage: 813.9+ KB\n"
     ]
    }
   ],
   "source": [
    "# fill temporary values in missing values\n",
    "df.info()"
   ]
  },
  {
   "cell_type": "code",
   "execution_count": 6,
   "metadata": {},
   "outputs": [
    {
     "data": {
      "text/html": [
       "<div>\n",
       "<style scoped>\n",
       "    .dataframe tbody tr th:only-of-type {\n",
       "        vertical-align: middle;\n",
       "    }\n",
       "\n",
       "    .dataframe tbody tr th {\n",
       "        vertical-align: top;\n",
       "    }\n",
       "\n",
       "    .dataframe thead th {\n",
       "        text-align: right;\n",
       "    }\n",
       "</style>\n",
       "<table border=\"1\" class=\"dataframe\">\n",
       "  <thead>\n",
       "    <tr style=\"text-align: right;\">\n",
       "      <th></th>\n",
       "      <th>index</th>\n",
       "      <th>BHK</th>\n",
       "      <th>sector</th>\n",
       "      <th>price</th>\n",
       "      <th>price_persqft</th>\n",
       "      <th>SuperArea</th>\n",
       "      <th>floor</th>\n",
       "      <th>Furnishing</th>\n",
       "      <th>facing</th>\n",
       "      <th>Car_Parking</th>\n",
       "      <th>Bathroom</th>\n",
       "      <th>Balcony</th>\n",
       "      <th>overlooking</th>\n",
       "      <th>city</th>\n",
       "    </tr>\n",
       "  </thead>\n",
       "  <tbody>\n",
       "    <tr>\n",
       "      <th>699</th>\n",
       "      <td>699</td>\n",
       "      <td>2</td>\n",
       "      <td>others</td>\n",
       "      <td>0.75</td>\n",
       "      <td>NaN</td>\n",
       "      <td>NaN</td>\n",
       "      <td>2</td>\n",
       "      <td>Semi-Furnished</td>\n",
       "      <td>NaN</td>\n",
       "      <td>available</td>\n",
       "      <td>2</td>\n",
       "      <td>1</td>\n",
       "      <td>NaN</td>\n",
       "      <td>Bangalore</td>\n",
       "    </tr>\n",
       "    <tr>\n",
       "      <th>1519</th>\n",
       "      <td>79</td>\n",
       "      <td>3</td>\n",
       "      <td>others</td>\n",
       "      <td>1.25</td>\n",
       "      <td>NaN</td>\n",
       "      <td>1270.0</td>\n",
       "      <td>2</td>\n",
       "      <td>Unfurnished</td>\n",
       "      <td>South</td>\n",
       "      <td>not sure</td>\n",
       "      <td>3</td>\n",
       "      <td>3</td>\n",
       "      <td>NaN</td>\n",
       "      <td>chennai</td>\n",
       "    </tr>\n",
       "    <tr>\n",
       "      <th>1538</th>\n",
       "      <td>98</td>\n",
       "      <td>2</td>\n",
       "      <td>others</td>\n",
       "      <td>0.51</td>\n",
       "      <td>NaN</td>\n",
       "      <td>734.0</td>\n",
       "      <td>2</td>\n",
       "      <td>Unfurnished</td>\n",
       "      <td>South</td>\n",
       "      <td>not sure</td>\n",
       "      <td>2</td>\n",
       "      <td>2</td>\n",
       "      <td>NaN</td>\n",
       "      <td>chennai</td>\n",
       "    </tr>\n",
       "    <tr>\n",
       "      <th>1573</th>\n",
       "      <td>133</td>\n",
       "      <td>2</td>\n",
       "      <td>Padur</td>\n",
       "      <td>0.62</td>\n",
       "      <td>NaN</td>\n",
       "      <td>1268.0</td>\n",
       "      <td>7</td>\n",
       "      <td>Furnished</td>\n",
       "      <td>East</td>\n",
       "      <td>available</td>\n",
       "      <td>2</td>\n",
       "      <td>2</td>\n",
       "      <td>Garden/Park</td>\n",
       "      <td>chennai</td>\n",
       "    </tr>\n",
       "    <tr>\n",
       "      <th>1578</th>\n",
       "      <td>138</td>\n",
       "      <td>2</td>\n",
       "      <td>others</td>\n",
       "      <td>0.90</td>\n",
       "      <td>NaN</td>\n",
       "      <td>920.0</td>\n",
       "      <td>2</td>\n",
       "      <td>Semi-Furnished</td>\n",
       "      <td>NaN</td>\n",
       "      <td>not sure</td>\n",
       "      <td>2</td>\n",
       "      <td>1</td>\n",
       "      <td>NaN</td>\n",
       "      <td>chennai</td>\n",
       "    </tr>\n",
       "    <tr>\n",
       "      <th>...</th>\n",
       "      <td>...</td>\n",
       "      <td>...</td>\n",
       "      <td>...</td>\n",
       "      <td>...</td>\n",
       "      <td>...</td>\n",
       "      <td>...</td>\n",
       "      <td>...</td>\n",
       "      <td>...</td>\n",
       "      <td>...</td>\n",
       "      <td>...</td>\n",
       "      <td>...</td>\n",
       "      <td>...</td>\n",
       "      <td>...</td>\n",
       "      <td>...</td>\n",
       "    </tr>\n",
       "    <tr>\n",
       "      <th>5817</th>\n",
       "      <td>1377</td>\n",
       "      <td>2</td>\n",
       "      <td>others</td>\n",
       "      <td>0.55</td>\n",
       "      <td>NaN</td>\n",
       "      <td>1000.0</td>\n",
       "      <td>4</td>\n",
       "      <td>Unfurnished</td>\n",
       "      <td>East</td>\n",
       "      <td>not sure</td>\n",
       "      <td>2</td>\n",
       "      <td>1</td>\n",
       "      <td>Garden/Park, Main Road</td>\n",
       "      <td>Hydrabad</td>\n",
       "    </tr>\n",
       "    <tr>\n",
       "      <th>5917</th>\n",
       "      <td>1477</td>\n",
       "      <td>2</td>\n",
       "      <td>others</td>\n",
       "      <td>0.70</td>\n",
       "      <td>NaN</td>\n",
       "      <td>1162.0</td>\n",
       "      <td>4</td>\n",
       "      <td>Furnished</td>\n",
       "      <td>East</td>\n",
       "      <td>available</td>\n",
       "      <td>2</td>\n",
       "      <td>2</td>\n",
       "      <td>Garden/Park</td>\n",
       "      <td>Hydrabad</td>\n",
       "    </tr>\n",
       "    <tr>\n",
       "      <th>5924</th>\n",
       "      <td>1484</td>\n",
       "      <td>3</td>\n",
       "      <td>others</td>\n",
       "      <td>1.50</td>\n",
       "      <td>NaN</td>\n",
       "      <td>1600.0</td>\n",
       "      <td>1</td>\n",
       "      <td>Furnished</td>\n",
       "      <td>East</td>\n",
       "      <td>not sure</td>\n",
       "      <td>3</td>\n",
       "      <td>3</td>\n",
       "      <td>NaN</td>\n",
       "      <td>Hydrabad</td>\n",
       "    </tr>\n",
       "    <tr>\n",
       "      <th>5928</th>\n",
       "      <td>1488</td>\n",
       "      <td>3</td>\n",
       "      <td>Gachibowli</td>\n",
       "      <td>1.96</td>\n",
       "      <td>NaN</td>\n",
       "      <td>2009.0</td>\n",
       "      <td>10+</td>\n",
       "      <td>Unfurnished</td>\n",
       "      <td>East</td>\n",
       "      <td>available</td>\n",
       "      <td>3</td>\n",
       "      <td>NaN</td>\n",
       "      <td>Garden/Park, Main Road, Pool</td>\n",
       "      <td>Hydrabad</td>\n",
       "    </tr>\n",
       "    <tr>\n",
       "      <th>5929</th>\n",
       "      <td>1489</td>\n",
       "      <td>2</td>\n",
       "      <td>others</td>\n",
       "      <td>0.55</td>\n",
       "      <td>NaN</td>\n",
       "      <td>1071.0</td>\n",
       "      <td>0</td>\n",
       "      <td>Furnished</td>\n",
       "      <td>NaN</td>\n",
       "      <td>not sure</td>\n",
       "      <td>2</td>\n",
       "      <td>2</td>\n",
       "      <td>NaN</td>\n",
       "      <td>Hydrabad</td>\n",
       "    </tr>\n",
       "  </tbody>\n",
       "</table>\n",
       "<p>234 rows × 14 columns</p>\n",
       "</div>"
      ],
      "text/plain": [
       "      index BHK      sector  price  price_persqft  SuperArea floor  \\\n",
       "699     699   2      others   0.75            NaN        NaN     2   \n",
       "1519     79   3      others   1.25            NaN     1270.0     2   \n",
       "1538     98   2      others   0.51            NaN      734.0     2   \n",
       "1573    133   2       Padur   0.62            NaN     1268.0     7   \n",
       "1578    138   2      others   0.90            NaN      920.0     2   \n",
       "...     ...  ..         ...    ...            ...        ...   ...   \n",
       "5817   1377   2      others   0.55            NaN     1000.0     4   \n",
       "5917   1477   2      others   0.70            NaN     1162.0     4   \n",
       "5924   1484   3      others   1.50            NaN     1600.0     1   \n",
       "5928   1488   3  Gachibowli   1.96            NaN     2009.0   10+   \n",
       "5929   1489   2      others   0.55            NaN     1071.0     0   \n",
       "\n",
       "          Furnishing facing Car_Parking Bathroom Balcony  \\\n",
       "699   Semi-Furnished    NaN   available        2       1   \n",
       "1519     Unfurnished  South    not sure        3       3   \n",
       "1538     Unfurnished  South    not sure        2       2   \n",
       "1573       Furnished   East   available        2       2   \n",
       "1578  Semi-Furnished    NaN    not sure        2       1   \n",
       "...              ...    ...         ...      ...     ...   \n",
       "5817     Unfurnished   East    not sure        2       1   \n",
       "5917       Furnished   East   available        2       2   \n",
       "5924       Furnished   East    not sure        3       3   \n",
       "5928     Unfurnished   East   available        3     NaN   \n",
       "5929       Furnished    NaN    not sure        2       2   \n",
       "\n",
       "                       overlooking       city  \n",
       "699                            NaN  Bangalore  \n",
       "1519                           NaN    chennai  \n",
       "1538                           NaN    chennai  \n",
       "1573                   Garden/Park    chennai  \n",
       "1578                           NaN    chennai  \n",
       "...                            ...        ...  \n",
       "5817        Garden/Park, Main Road   Hydrabad  \n",
       "5917                   Garden/Park   Hydrabad  \n",
       "5924                           NaN   Hydrabad  \n",
       "5928  Garden/Park, Main Road, Pool   Hydrabad  \n",
       "5929                           NaN   Hydrabad  \n",
       "\n",
       "[234 rows x 14 columns]"
      ]
     },
     "execution_count": 6,
     "metadata": {},
     "output_type": "execute_result"
    }
   ],
   "source": [
    "df[df['price_persqft'].isnull()]"
   ]
  },
  {
   "cell_type": "code",
   "execution_count": 7,
   "metadata": {},
   "outputs": [],
   "source": [
    "cat = df.select_dtypes(include = 'object').columns.tolist()"
   ]
  },
  {
   "cell_type": "code",
   "execution_count": 8,
   "metadata": {},
   "outputs": [],
   "source": [
    "num = df.select_dtypes(include = ['int64', 'float64']).columns.tolist()"
   ]
  },
  {
   "cell_type": "code",
   "execution_count": 9,
   "metadata": {},
   "outputs": [],
   "source": [
    "# for i in cat:\n",
    "#     df[i].fillna(df[i].mode(), inplace = True)"
   ]
  },
  {
   "cell_type": "code",
   "execution_count": 10,
   "metadata": {},
   "outputs": [],
   "source": [
    "# for i in num:\n",
    "#     df[i].fillna(df[i].mean(), inplace = True)"
   ]
  },
  {
   "cell_type": "code",
   "execution_count": 11,
   "metadata": {},
   "outputs": [],
   "source": [
    "from sklearn.impute import KNNImputer\n",
    "knn = KNNImputer(n_neighbors = 5)"
   ]
  },
  {
   "cell_type": "code",
   "execution_count": 12,
   "metadata": {},
   "outputs": [
    {
     "data": {
      "text/plain": [
       "array([[0.0000e+00, 2.2500e+00, 1.3966e+04, 1.6110e+03],\n",
       "       [1.0000e+00, 2.1300e+00, 1.2909e+04, 1.6500e+03],\n",
       "       [2.0000e+00, 1.3700e+00, 9.6480e+03, 1.4200e+03],\n",
       "       ...,\n",
       "       [1.4970e+03, 2.7500e+00, 2.5114e+04, 1.0950e+03],\n",
       "       [1.4980e+03, 4.1500e+00, 3.1923e+04, 1.3000e+03],\n",
       "       [1.4990e+03, 6.6000e-01, 1.6500e+04, 4.0000e+02]])"
      ]
     },
     "execution_count": 12,
     "metadata": {},
     "output_type": "execute_result"
    }
   ],
   "source": [
    "knn.fit_transform(df[num])"
   ]
  },
  {
   "cell_type": "code",
   "execution_count": 13,
   "metadata": {},
   "outputs": [],
   "source": [
    "df[num] = knn.fit_transform(df[num])"
   ]
  },
  {
   "cell_type": "code",
   "execution_count": 14,
   "metadata": {},
   "outputs": [
    {
     "data": {
      "text/plain": [
       "index               0\n",
       "BHK                 0\n",
       "sector              0\n",
       "price               0\n",
       "price_persqft       0\n",
       "SuperArea           0\n",
       "floor             451\n",
       "Furnishing         77\n",
       "facing           2584\n",
       "Car_Parking         0\n",
       "Bathroom           40\n",
       "Balcony          1973\n",
       "overlooking      3125\n",
       "city                0\n",
       "dtype: int64"
      ]
     },
     "execution_count": 14,
     "metadata": {},
     "output_type": "execute_result"
    }
   ],
   "source": [
    "df.isnull().sum()"
   ]
  },
  {
   "cell_type": "code",
   "execution_count": 15,
   "metadata": {},
   "outputs": [
    {
     "data": {
      "text/plain": [
       "6203.0"
      ]
     },
     "execution_count": 15,
     "metadata": {},
     "output_type": "execute_result"
    }
   ],
   "source": [
    "df['price_persqft'].iloc[699]"
   ]
  },
  {
   "cell_type": "code",
   "execution_count": 16,
   "metadata": {},
   "outputs": [],
   "source": [
    "for i in cat:\n",
    "    df[i].fillna(df[i].mode()[0], inplace = True)"
   ]
  },
  {
   "cell_type": "code",
   "execution_count": 17,
   "metadata": {},
   "outputs": [
    {
     "data": {
      "text/plain": [
       "index            0\n",
       "BHK              0\n",
       "sector           0\n",
       "price            0\n",
       "price_persqft    0\n",
       "SuperArea        0\n",
       "floor            0\n",
       "Furnishing       0\n",
       "facing           0\n",
       "Car_Parking      0\n",
       "Bathroom         0\n",
       "Balcony          0\n",
       "overlooking      0\n",
       "city             0\n",
       "dtype: int64"
      ]
     },
     "execution_count": 17,
     "metadata": {},
     "output_type": "execute_result"
    }
   ],
   "source": [
    "df.isnull().sum()"
   ]
  },
  {
   "cell_type": "code",
   "execution_count": 18,
   "metadata": {},
   "outputs": [],
   "source": [
    "df.to_csv('clean_data.csv', index = False)"
   ]
  }
 ],
 "metadata": {
  "kernelspec": {
   "display_name": "Python 3",
   "language": "python",
   "name": "python3"
  },
  "language_info": {
   "codemirror_mode": {
    "name": "ipython",
    "version": 3
   },
   "file_extension": ".py",
   "mimetype": "text/x-python",
   "name": "python",
   "nbconvert_exporter": "python",
   "pygments_lexer": "ipython3",
   "version": "3.11.5"
  }
 },
 "nbformat": 4,
 "nbformat_minor": 2
}
