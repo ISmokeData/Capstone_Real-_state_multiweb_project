{
 "cells": [
  {
   "cell_type": "code",
   "execution_count": 1,
   "metadata": {},
   "outputs": [],
   "source": [
    "import pandas as pd\n",
    "import numpy as np"
   ]
  },
  {
   "cell_type": "code",
   "execution_count": 2,
   "metadata": {},
   "outputs": [],
   "source": [
    "df1 = pd.read_csv('../MB_DataCleaning/banglore/banglore_cleaned.csv')\n",
    "df2 = pd.read_csv('../MB_DataCleaning/chennai/chennai_cleaned.csv')\n",
    "df3 = pd.read_csv('../MB_DataCleaning/gurgaon/gurgaon_cleaned.csv')\n",
    "df4 = pd.read_csv('../MB_DataCleaning/hydrabad/hydrabad_cleaned.csv')\n",
    "df5 = pd.read_csv('../MB_DataCleaning/mumbai/mumbai_cleaned.csv')"
   ]
  },
  {
   "cell_type": "code",
   "execution_count": 3,
   "metadata": {},
   "outputs": [],
   "source": [
    "frames = [df1, df2, df3, df4, df5]\n",
    "df = pd.concat(frames)"
   ]
  },
  {
   "cell_type": "code",
   "execution_count": 5,
   "metadata": {},
   "outputs": [
    {
     "data": {
      "text/plain": [
       "(7440, 13)"
      ]
     },
     "execution_count": 5,
     "metadata": {},
     "output_type": "execute_result"
    }
   ],
   "source": [
    "df.shape"
   ]
  },
  {
   "cell_type": "code",
   "execution_count": 6,
   "metadata": {},
   "outputs": [
    {
     "name": "stdout",
     "output_type": "stream",
     "text": [
      "<class 'pandas.core.frame.DataFrame'>\n",
      "Index: 7440 entries, 0 to 1499\n",
      "Data columns (total 13 columns):\n",
      " #   Column         Non-Null Count  Dtype  \n",
      "---  ------         --------------  -----  \n",
      " 0   BHK            7440 non-null   object \n",
      " 1   sector         7440 non-null   object \n",
      " 2   price          7440 non-null   float64\n",
      " 3   price_persqft  7206 non-null   float64\n",
      " 4   SuperArea      7395 non-null   float64\n",
      " 5   floor          6989 non-null   object \n",
      " 6   Furnishing     7363 non-null   object \n",
      " 7   facing         4856 non-null   object \n",
      " 8   Car_Parking    6586 non-null   object \n",
      " 9   Bathroom       7400 non-null   object \n",
      " 10  Balcony        5467 non-null   object \n",
      " 11  overlooking    4315 non-null   object \n",
      " 12  city           7440 non-null   object \n",
      "dtypes: float64(3), object(10)\n",
      "memory usage: 813.8+ KB\n"
     ]
    }
   ],
   "source": [
    "df.info()"
   ]
  },
  {
   "cell_type": "code",
   "execution_count": 7,
   "metadata": {},
   "outputs": [
    {
     "data": {
      "text/plain": [
       "BHK                 0\n",
       "sector              0\n",
       "price               0\n",
       "price_persqft     234\n",
       "SuperArea          45\n",
       "floor             451\n",
       "Furnishing         77\n",
       "facing           2584\n",
       "Car_Parking       854\n",
       "Bathroom           40\n",
       "Balcony          1973\n",
       "overlooking      3125\n",
       "city                0\n",
       "dtype: int64"
      ]
     },
     "execution_count": 7,
     "metadata": {},
     "output_type": "execute_result"
    }
   ],
   "source": [
    "df.isnull().sum()"
   ]
  },
  {
   "cell_type": "code",
   "execution_count": 8,
   "metadata": {},
   "outputs": [
    {
     "data": {
      "text/plain": [
       "overlooking\n",
       "Main Road                       1438\n",
       "Garden/Park                      885\n",
       "Garden/Park, Main Road           812\n",
       "Garden/Park, Pool, Main Road     618\n",
       "Garden/Park, Pool                241\n",
       "Pool, Garden/Park, Main Road     136\n",
       "Pool                              56\n",
       "Pool, Garden/Park                 41\n",
       "Pool, Main Road                   29\n",
       "Main Road, Garden/Park            28\n",
       "Main Road, Garden/Park, Pool      20\n",
       "Pool, Main Road, Garden/Park       4\n",
       "Garden/Park, Main Road, Pool       4\n",
       "Main Road, Pool                    2\n",
       "Main Road, Pool, Garden/Park       1\n",
       "Name: count, dtype: int64"
      ]
     },
     "execution_count": 8,
     "metadata": {},
     "output_type": "execute_result"
    }
   ],
   "source": [
    "df['overlooking'].value_counts()"
   ]
  },
  {
   "cell_type": "code",
   "execution_count": 9,
   "metadata": {},
   "outputs": [],
   "source": [
    "df.reset_index(inplace=True)"
   ]
  },
  {
   "cell_type": "code",
   "execution_count": 10,
   "metadata": {},
   "outputs": [
    {
     "data": {
      "text/html": [
       "<div>\n",
       "<style scoped>\n",
       "    .dataframe tbody tr th:only-of-type {\n",
       "        vertical-align: middle;\n",
       "    }\n",
       "\n",
       "    .dataframe tbody tr th {\n",
       "        vertical-align: top;\n",
       "    }\n",
       "\n",
       "    .dataframe thead th {\n",
       "        text-align: right;\n",
       "    }\n",
       "</style>\n",
       "<table border=\"1\" class=\"dataframe\">\n",
       "  <thead>\n",
       "    <tr style=\"text-align: right;\">\n",
       "      <th></th>\n",
       "      <th>index</th>\n",
       "      <th>BHK</th>\n",
       "      <th>sector</th>\n",
       "      <th>price</th>\n",
       "      <th>price_persqft</th>\n",
       "      <th>SuperArea</th>\n",
       "      <th>floor</th>\n",
       "      <th>Furnishing</th>\n",
       "      <th>facing</th>\n",
       "      <th>Car_Parking</th>\n",
       "      <th>Bathroom</th>\n",
       "      <th>Balcony</th>\n",
       "      <th>overlooking</th>\n",
       "      <th>city</th>\n",
       "    </tr>\n",
       "  </thead>\n",
       "  <tbody>\n",
       "    <tr>\n",
       "      <th>0</th>\n",
       "      <td>0</td>\n",
       "      <td>3</td>\n",
       "      <td>Panathur</td>\n",
       "      <td>2.25</td>\n",
       "      <td>13966.0</td>\n",
       "      <td>1611.0</td>\n",
       "      <td>10+</td>\n",
       "      <td>Unfurnished</td>\n",
       "      <td>East</td>\n",
       "      <td>Available</td>\n",
       "      <td>2</td>\n",
       "      <td>1</td>\n",
       "      <td>Garden/Park</td>\n",
       "      <td>Banglore</td>\n",
       "    </tr>\n",
       "    <tr>\n",
       "      <th>1</th>\n",
       "      <td>1</td>\n",
       "      <td>3</td>\n",
       "      <td>Panathur</td>\n",
       "      <td>2.13</td>\n",
       "      <td>12909.0</td>\n",
       "      <td>1650.0</td>\n",
       "      <td>10+</td>\n",
       "      <td>Unfurnished</td>\n",
       "      <td>East</td>\n",
       "      <td>Available</td>\n",
       "      <td>3</td>\n",
       "      <td>2</td>\n",
       "      <td>Garden/Park</td>\n",
       "      <td>Banglore</td>\n",
       "    </tr>\n",
       "    <tr>\n",
       "      <th>2</th>\n",
       "      <td>2</td>\n",
       "      <td>3</td>\n",
       "      <td>Thanisandra</td>\n",
       "      <td>1.37</td>\n",
       "      <td>9648.0</td>\n",
       "      <td>1420.0</td>\n",
       "      <td>8</td>\n",
       "      <td>Unfurnished</td>\n",
       "      <td>North - East</td>\n",
       "      <td>Available</td>\n",
       "      <td>2</td>\n",
       "      <td>1</td>\n",
       "      <td>Garden/Park, Pool</td>\n",
       "      <td>Banglore</td>\n",
       "    </tr>\n",
       "    <tr>\n",
       "      <th>3</th>\n",
       "      <td>3</td>\n",
       "      <td>3</td>\n",
       "      <td>Panathur</td>\n",
       "      <td>1.62</td>\n",
       "      <td>11000.0</td>\n",
       "      <td>1473.0</td>\n",
       "      <td>5</td>\n",
       "      <td>Unfurnished</td>\n",
       "      <td>North - East</td>\n",
       "      <td>Available</td>\n",
       "      <td>2</td>\n",
       "      <td>1</td>\n",
       "      <td>Garden/Park, Main Road</td>\n",
       "      <td>Banglore</td>\n",
       "    </tr>\n",
       "    <tr>\n",
       "      <th>4</th>\n",
       "      <td>4</td>\n",
       "      <td>4</td>\n",
       "      <td>Whitefield</td>\n",
       "      <td>3.93</td>\n",
       "      <td>15023.0</td>\n",
       "      <td>2616.0</td>\n",
       "      <td>10+</td>\n",
       "      <td>Unfurnished</td>\n",
       "      <td>East</td>\n",
       "      <td>Available</td>\n",
       "      <td>3</td>\n",
       "      <td>2</td>\n",
       "      <td>Garden/Park</td>\n",
       "      <td>Banglore</td>\n",
       "    </tr>\n",
       "  </tbody>\n",
       "</table>\n",
       "</div>"
      ],
      "text/plain": [
       "   index BHK       sector  price  price_persqft  SuperArea floor   Furnishing  \\\n",
       "0      0   3     Panathur   2.25        13966.0     1611.0   10+  Unfurnished   \n",
       "1      1   3     Panathur   2.13        12909.0     1650.0   10+  Unfurnished   \n",
       "2      2   3  Thanisandra   1.37         9648.0     1420.0     8  Unfurnished   \n",
       "3      3   3     Panathur   1.62        11000.0     1473.0     5  Unfurnished   \n",
       "4      4   4   Whitefield   3.93        15023.0     2616.0   10+  Unfurnished   \n",
       "\n",
       "         facing Car_Parking Bathroom Balcony             overlooking      city  \n",
       "0          East   Available        2       1             Garden/Park  Banglore  \n",
       "1          East   Available        3       2             Garden/Park  Banglore  \n",
       "2  North - East   Available        2       1       Garden/Park, Pool  Banglore  \n",
       "3  North - East   Available        2       1  Garden/Park, Main Road  Banglore  \n",
       "4          East   Available        3       2             Garden/Park  Banglore  "
      ]
     },
     "execution_count": 10,
     "metadata": {},
     "output_type": "execute_result"
    }
   ],
   "source": [
    "df.head()"
   ]
  },
  {
   "cell_type": "code",
   "execution_count": null,
   "metadata": {},
   "outputs": [],
   "source": []
  }
 ],
 "metadata": {
  "kernelspec": {
   "display_name": "Python 3",
   "language": "python",
   "name": "python3"
  },
  "language_info": {
   "codemirror_mode": {
    "name": "ipython",
    "version": 3
   },
   "file_extension": ".py",
   "mimetype": "text/x-python",
   "name": "python",
   "nbconvert_exporter": "python",
   "pygments_lexer": "ipython3",
   "version": "3.11.5"
  }
 },
 "nbformat": 4,
 "nbformat_minor": 2
}
